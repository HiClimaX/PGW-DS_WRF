{
 "cells": [
  {
   "cell_type": "markdown",
   "id": "f4e4f950-740b-4562-8181-8070353f84d7",
   "metadata": {},
   "source": [
    "# RUN TEST SIMULATION\n",
    "\n",
    "## Control run\n",
    "\n",
    "* Prepare run directory: wps, wrf\n",
    "\n",
    "* Namelist setting\n",
    "\n",
    "* Run geogrid, ungrib, metgrid, real and wrf\n"
   ]
  },
  {
   "cell_type": "code",
   "execution_count": 1,
   "id": "619c1421-43e7-46d3-b6af-63334eac1ec8",
   "metadata": {
    "tags": []
   },
   "outputs": [],
   "source": [
    "import xarray as xr\n",
    "import pandas as pd\n",
    "import numpy as np\n",
    "import os, sys, glob\n",
    "import subprocess"
   ]
  },
  {
   "cell_type": "markdown",
   "id": "a107819a-0857-4057-bfe9-bcf24f1eee1c",
   "metadata": {},
   "source": [
    "### Preparing run directory\n"
   ]
  },
  {
   "cell_type": "code",
   "execution_count": 49,
   "id": "c9181574-db08-4c1a-a72a-bcc70f258808",
   "metadata": {
    "tags": []
   },
   "outputs": [],
   "source": [
    "wpsdir              = \"/Volumes/work/WRF_program/WRF_install/WPS/\"\n",
    "wrfdir              = \"/Volumes/work/WRF_program/WRF_install/WRF_mpi/\"\n",
    "geogdir             = \"/Volumes/work/WRF_program/WPS_GEOG\"\n",
    "renaldir            = \"/Volumes/work/WRF_program/era5/\"\n",
    "namelist_wps_path   = \"namelist/namelist.wps\"\n",
    "namelist_input_path = \"namelist/namelist.input\"\n",
    "\n",
    "run_id              = 'tok_test_dom'\n",
    "base_dir            = '/Users/doan/Google Drive/My Drive/share/2024/PGW_DS/'\n",
    "run_dir             = base_dir + \"/Run_WRF/\"+run_id+\"control\""
   ]
  },
  {
   "cell_type": "code",
   "execution_count": 3,
   "id": "eb9b224c-7d55-4c5d-9967-949e88cb52a3",
   "metadata": {},
   "outputs": [
    {
     "name": "stdout",
     "output_type": "stream",
     "text": [
      "01_Create_GWI_files.ipynb             NUL\n",
      "01_Create_GWI_files.py                Readme.md\n",
      "\u001b[1m\u001b[34m01_Generate_Global_Warming_Increment\u001b[m\u001b[m/ Run_WRF.ipynb\n",
      "02_Create_PGW_WRFinterp.ipynb         \u001b[1m\u001b[34mWRF_run\u001b[m\u001b[m/\n",
      "\u001b[1m\u001b[34mDownload_CMIP6\u001b[m\u001b[m/                       \u001b[1m\u001b[34mnamelist\u001b[m\u001b[m/\n"
     ]
    }
   ],
   "source": [
    "ls"
   ]
  },
  {
   "cell_type": "code",
   "execution_count": 4,
   "id": "8ca92e38-6038-444a-9c4e-5d9728976676",
   "metadata": {
    "tags": []
   },
   "outputs": [],
   "source": [
    "st_date, en_date = \"2023-01-01 00\", \"2023-01-01 18\""
   ]
  },
  {
   "cell_type": "code",
   "execution_count": 5,
   "id": "584b3b3f-7b22-48f0-bffa-fa022a745d7f",
   "metadata": {
    "tags": []
   },
   "outputs": [
    {
     "data": {
      "text/plain": [
       "'/Users/doan/Google Drive/My Drive/share/2024/PGW_DS//Run_WRF/control/link_grib.csh'"
      ]
     },
     "execution_count": 5,
     "metadata": {},
     "output_type": "execute_result"
    }
   ],
   "source": [
    "import shutil\n",
    "\n",
    "for idir in ['geogrid', 'ungrib', 'metgrid']: \n",
    "    # Copy the directory tree, allowing existing destination directory\n",
    "    shutil.copytree(wpsdir+'/'+idir, run_dir+'/'+idir, dirs_exist_ok=True)\n",
    "    shutil.copy2(wpsdir+'/'+idir+'.exe', run_dir+'/'+idir+'.exe')    \n",
    "\n",
    "shutil.copy2(wpsdir+'/link_grib.csh', run_dir)"
   ]
  },
  {
   "cell_type": "code",
   "execution_count": null,
   "id": "7a9ed854-6feb-4681-be60-3878a58f01cc",
   "metadata": {
    "tags": []
   },
   "outputs": [],
   "source": []
  },
  {
   "cell_type": "markdown",
   "id": "73dda941-dc77-4d52-b1de-5ac7c3da3e56",
   "metadata": {},
   "source": [
    "## modify name list\n"
   ]
  },
  {
   "cell_type": "code",
   "execution_count": 6,
   "id": "47a370d7-2a64-4b02-bdb0-166249e1b5fd",
   "metadata": {
    "tags": []
   },
   "outputs": [],
   "source": [
    "import re\n",
    "def modify_namelist(namelist_path_in, namelist_path_out, aa):\n",
    "    with open(namelist_path_in, 'r') as file:\n",
    "        lines = file.readlines()\n",
    "\n",
    "    for i, line in enumerate(lines):\n",
    "        for k, v in aa.items():\n",
    "            parameter_pattern = re.compile(rf'^\\s*{k}\\s*=\\s*')\n",
    "            if parameter_pattern.match(line):\n",
    "                lines[i] = f' {k} = {v},\\n'\n",
    "\n",
    "    with open(namelist_path_out, 'w') as file:\n",
    "        file.writelines(lines)"
   ]
  },
  {
   "cell_type": "code",
   "execution_count": 7,
   "id": "08d3fb81-2a36-4350-a2aa-5d7d9340866f",
   "metadata": {
    "tags": []
   },
   "outputs": [],
   "source": [
    "namelist_path_in = namelist_wps_path\n",
    "namelist_path_out = run_dir+'/namelist.wps'\n",
    "aa = {'geog_data_path': '\"'+geogdir+'\"' }\n",
    "\n",
    "modify_namelist(namelist_path_in, namelist_path_out, aa)\n"
   ]
  },
  {
   "cell_type": "markdown",
   "id": "50e75cdd-1f22-417b-bf27-f18a14a19377",
   "metadata": {},
   "source": [
    "### Run geogrid.exe"
   ]
  },
  {
   "cell_type": "code",
   "execution_count": 8,
   "id": "c571336b-a608-43f4-a801-d1d6ff19d73f",
   "metadata": {},
   "outputs": [],
   "source": [
    "try:\n",
    "    subprocess.run(['./geogrid.exe'], cwd=run_dir, stdout=subprocess.DEVNULL, stderr=subprocess.DEVNULL, check=True)\n",
    "except subprocess.CalledProcessError as e:\n",
    "    print(f\"Error executing geogrid.exe: {e}\")"
   ]
  },
  {
   "cell_type": "code",
   "execution_count": 9,
   "id": "b6dd0c9f-0481-42e1-986b-87ebc2068a48",
   "metadata": {},
   "outputs": [
    {
     "name": "stdout",
     "output_type": "stream",
     "text": [
      "01_Create_GWI_files.ipynb             NUL\n",
      "01_Create_GWI_files.py                Readme.md\n",
      "\u001b[1m\u001b[34m01_Generate_Global_Warming_Increment\u001b[m\u001b[m/ Run_WRF.ipynb\n",
      "02_Create_PGW_WRFinterp.ipynb         \u001b[1m\u001b[34mWRF_run\u001b[m\u001b[m/\n",
      "\u001b[1m\u001b[34mDownload_CMIP6\u001b[m\u001b[m/                       \u001b[1m\u001b[34mnamelist\u001b[m\u001b[m/\n"
     ]
    }
   ],
   "source": [
    "ls"
   ]
  },
  {
   "cell_type": "code",
   "execution_count": 10,
   "id": "8e11ac5a-42aa-441e-a50a-77c54870aa61",
   "metadata": {
    "tags": []
   },
   "outputs": [],
   "source": [
    "#os.system('cd '+run_dir+'; ./geogrid.exe  > NUL 2>&1; cd -')"
   ]
  },
  {
   "cell_type": "code",
   "execution_count": 11,
   "id": "efa8dbd3-418c-4c14-941c-8f4a6096e678",
   "metadata": {},
   "outputs": [],
   "source": [
    "### Run ungrib"
   ]
  },
  {
   "cell_type": "code",
   "execution_count": 12,
   "id": "385451be-312f-4b06-86e6-76aba8c76562",
   "metadata": {},
   "outputs": [
    {
     "name": "stdout",
     "output_type": "stream",
     "text": [
      "01_Create_GWI_files.ipynb             NUL\n",
      "01_Create_GWI_files.py                Readme.md\n",
      "\u001b[1m\u001b[34m01_Generate_Global_Warming_Increment\u001b[m\u001b[m/ Run_WRF.ipynb\n",
      "02_Create_PGW_WRFinterp.ipynb         \u001b[1m\u001b[34mWRF_run\u001b[m\u001b[m/\n",
      "\u001b[1m\u001b[34mDownload_CMIP6\u001b[m\u001b[m/                       \u001b[1m\u001b[34mnamelist\u001b[m\u001b[m/\n"
     ]
    }
   ],
   "source": [
    "ls"
   ]
  },
  {
   "cell_type": "code",
   "execution_count": 13,
   "id": "8a3f058b-13a3-4c81-b291-cb5b27f4117c",
   "metadata": {},
   "outputs": [
    {
     "name": "stdout",
     "output_type": "stream",
     "text": [
      "Symbolic link created from /Users/doan/Google Drive/My Drive/share/2024/PGW_DS//Run_WRF/control/ungrib/Variable_Tables/Vtable.ECMWF to /Users/doan/Google Drive/My Drive/share/2024/PGW_DS//Run_WRF/control/Vtable\n",
      "Moved back to the original directory: /Users/doan/Documents/GitHub/Pseudo-Global-Warming-Downscaling\n"
     ]
    }
   ],
   "source": [
    "source_file = os.path.join(run_dir, 'ungrib/Variable_Tables/Vtable.ECMWF')\n",
    "target_link = os.path.join(run_dir, 'Vtable')\n",
    "original_dir = os.getcwd()\n",
    "# Create the symbolic link\n",
    "try:\n",
    "    # Change to the run directory (run_dir)\n",
    "    os.chdir(run_dir)\n",
    "    # Remove existing symbolic link or file if it exists\n",
    "    if os.path.islink(target_link) or os.path.exists(target_link):\n",
    "        os.remove(target_link)\n",
    "    # Create a symbolic link\n",
    "    os.symlink(source_file, target_link)\n",
    "    print(f\"Symbolic link created from {source_file} to {target_link}\")\n",
    "except OSError as e:\n",
    "    print(f\"Error creating symbolic link: {e}\")\n",
    "finally:\n",
    "    # Move back to the original directory\n",
    "    os.chdir(original_dir)\n",
    "    print(f\"Moved back to the original directory: {original_dir}\")"
   ]
  },
  {
   "cell_type": "code",
   "execution_count": 29,
   "id": "24984e24-6be0-4665-aa91-b27cf4080c45",
   "metadata": {
    "tags": []
   },
   "outputs": [
    {
     "data": {
      "text/plain": [
       "0"
      ]
     },
     "execution_count": 29,
     "metadata": {},
     "output_type": "execute_result"
    }
   ],
   "source": [
    "#os.system('cd '+run_dir+';ln -sf ungrib/Variable_Tables/Vtable.ECMWF Vtable')"
   ]
  },
  {
   "cell_type": "code",
   "execution_count": 42,
   "id": "01f9af72-f23c-4bed-b241-a9de06901ea9",
   "metadata": {},
   "outputs": [],
   "source": [
    "import subprocess\n",
    "\n",
    "namelist_wps = run_dir + '/namelist.wps'\n",
    "prefixes = ['ERA5A', 'ERA5S']\n",
    "\n",
    "for i in range(2):\n",
    "\n",
    "    prefix = prefixes[i]\n",
    "    # Define the appropriate reanalysis file based on 'pressure' or 'surface' level\n",
    "    reanal_files = renaldir + 'era5_ungrib_' + ['pressure', 'surface'][i] + '_levels_20230101.grib'\n",
    "    # Run the link_grib.csh script using subprocess, passing the reanalysis file\n",
    "    try:\n",
    "        subprocess.run(['./link_grib.csh', reanal_files], cwd=run_dir, check=True)\n",
    "        subprocess.run(['rm', '-f'] + glob.glob(os.path.join(run_dir, prefix+'*')), check=True)\n",
    "                \n",
    "    except subprocess.CalledProcessError as e:\n",
    "        print(f\"Error running link_grib.csh: {e}\")\n",
    "\n",
    "    # Modify the namelist\n",
    "    modify_namelist(namelist_wps, namelist_wps, {'prefix': f'\"{prefix}\"'})\n",
    "    \n",
    "    # Run ungrib.exe and suppress output (equivalent to '> NUL 2>&1')\n",
    "    try:\n",
    "        subprocess.run(['./ungrib.exe'], cwd=run_dir, stdout=subprocess.DEVNULL, stderr=subprocess.DEVNULL, check=True)\n",
    "    except subprocess.CalledProcessError as e:\n",
    "        print(f\"Error running ungrib.exe: {e}\")"
   ]
  },
  {
   "cell_type": "code",
   "execution_count": 32,
   "id": "b687e28b-ee96-4d05-b12d-eef3689d8dc1",
   "metadata": {
    "tags": []
   },
   "outputs": [
    {
     "name": "stdout",
     "output_type": "stream",
     "text": [
      "/Users/doan/Documents/GitHub/Pseudo-Global-Warming-Downscaling/03_WRF_run\n",
      "/Users/doan/Documents/GitHub/Pseudo-Global-Warming-Downscaling/03_WRF_run\n"
     ]
    }
   ],
   "source": [
    "'''\n",
    "namelist_wps = run_dir+'/namelist.wps'\n",
    "prefixs = ['ERA5A', 'ERA5S']\n",
    "\n",
    "for i in range(2):\n",
    "\n",
    "    prefix = prefixs[i]\n",
    "    reanal_files = renaldir + 'era5_ungrib_'+['pressure', 'surface'][i]+'_levels_20230101.grib'\n",
    "    os.system('cd '+run_dir+';./link_grib.csh '+reanal_files)\n",
    "    modify_namelist(namelist_wps, namelist_wps, { 'prefix'  :'\"'+prefix+'\"'  } )\n",
    "    os.system('cd '+run_dir+'; ./ungrib.exe  > NUL 2>&1; cd -')\n",
    "    #os.system('cd '+run_dir+'; ./ungrib.exe ') \n",
    "''' "
   ]
  },
  {
   "cell_type": "markdown",
   "id": "b8c9727c-5b08-48db-bab7-1502c64f37f6",
   "metadata": {},
   "source": [
    "### Run metgrid"
   ]
  },
  {
   "cell_type": "code",
   "execution_count": 43,
   "id": "e5194659-4ba7-4a73-a60a-d47a2611bad9",
   "metadata": {
    "tags": []
   },
   "outputs": [],
   "source": [
    "fg_name = '\"'+'\",\"'.join(prefixes)+'\"'\n",
    "\n",
    "modify_namelist(namelist_wps, namelist_wps, { 'fg_name'  : fg_name} )"
   ]
  },
  {
   "cell_type": "code",
   "execution_count": 44,
   "id": "6c982abe-e84b-4483-9638-ff406a9d9cd0",
   "metadata": {},
   "outputs": [],
   "source": [
    "\n",
    "try:\n",
    "    # Run the command in the specified directory\n",
    "    subprocess.run(['./metgrid.exe'], cwd=run_dir, stdout=subprocess.DEVNULL, stderr=subprocess.DEVNULL, check=True)\n",
    "except subprocess.CalledProcessError as e:\n",
    "    print(f\"Error executing metgrid.exe: {e}\")"
   ]
  },
  {
   "cell_type": "code",
   "execution_count": 34,
   "id": "597e254a-24df-4f6b-b7a7-8126a555e1c3",
   "metadata": {
    "tags": []
   },
   "outputs": [
    {
     "name": "stdout",
     "output_type": "stream",
     "text": [
      "/Users/doan/Documents/GitHub/Pseudo-Global-Warming-Downscaling/03_WRF_run\n"
     ]
    },
    {
     "data": {
      "text/plain": [
       "0"
      ]
     },
     "execution_count": 34,
     "metadata": {},
     "output_type": "execute_result"
    }
   ],
   "source": [
    "#os.system('cd '+run_dir+'; ./metgrid.exe  > NUL 2>&1; cd -')"
   ]
  },
  {
   "cell_type": "markdown",
   "id": "9bf49cfa-d907-4f40-94ca-592ec5bad543",
   "metadata": {},
   "source": [
    "## Copy WRF run files"
   ]
  },
  {
   "cell_type": "code",
   "execution_count": 45,
   "id": "6101e796-0fe3-48ed-bb2d-d9efe18d6cb3",
   "metadata": {},
   "outputs": [],
   "source": [
    "# List all files in the source directory (wrfdir + '/run/')\n",
    "source_dir = os.path.join(wrfdir, 'run')\n",
    "destination_dir = run_dir\n",
    "\n",
    "# Copy all files from source_dir to destination_dir\n",
    "for file_name in os.listdir(source_dir):\n",
    "    full_file_name = os.path.join(source_dir, file_name)\n",
    "    \n",
    "    # Ensure it's a file before copying\n",
    "    if os.path.isfile(full_file_name):\n",
    "        shutil.copy(full_file_name, destination_dir)"
   ]
  },
  {
   "cell_type": "code",
   "execution_count": 46,
   "id": "50645572-ca13-4fc6-8b78-3aa7205559a7",
   "metadata": {},
   "outputs": [
    {
     "name": "stdout",
     "output_type": "stream",
     "text": [
      "cat: namelist.input: No such file or directory\n"
     ]
    }
   ],
   "source": []
  },
  {
   "cell_type": "code",
   "execution_count": 48,
   "id": "05d67e1c-f761-4d08-b71f-587ad5b7aa4b",
   "metadata": {},
   "outputs": [
    {
     "data": {
      "text/plain": [
       "'namelist.input'"
      ]
     },
     "execution_count": 48,
     "metadata": {},
     "output_type": "execute_result"
    }
   ],
   "source": [
    "namelist_input_path"
   ]
  },
  {
   "cell_type": "code",
   "execution_count": 50,
   "id": "a0bd2c4d-ed85-46de-b488-1866c0891139",
   "metadata": {
    "tags": []
   },
   "outputs": [],
   "source": [
    "import re\n",
    "with open(namelist_input_path, 'r') as file: a1 = file.readlines()\n",
    "with open(run_dir+'/namelist.input', 'w') as file: file.writelines(a1)"
   ]
  },
  {
   "cell_type": "code",
   "execution_count": 51,
   "id": "7aa515c4-9421-4652-b676-8c1fbc3dc5a4",
   "metadata": {},
   "outputs": [],
   "source": [
    "try:\n",
    "    subprocess.run(['./real.exe'], cwd=run_dir, stdout=subprocess.DEVNULL, stderr=subprocess.DEVNULL, check=True)\n",
    "except subprocess.CalledProcessError as e:\n",
    "    print(f\"Error executing real.exe: {e}\")"
   ]
  },
  {
   "cell_type": "code",
   "execution_count": 35,
   "id": "1374868b-cca7-4b98-bc6d-23a27a040ac6",
   "metadata": {
    "tags": []
   },
   "outputs": [
    {
     "data": {
      "text/plain": [
       "0"
      ]
     },
     "execution_count": 35,
     "metadata": {},
     "output_type": "execute_result"
    }
   ],
   "source": [
    "#os.system('cp '+wrfdir+'/run/* '+ run_dir+'/')"
   ]
  },
  {
   "cell_type": "code",
   "execution_count": 52,
   "id": "a0ba7ba7-0748-4147-a847-966d32b01484",
   "metadata": {},
   "outputs": [],
   "source": [
    "command = ['mpirun', '-np', '4', './wrf.exe']\n",
    "try:\n",
    "    subprocess.run(command, cwd=run_dir, stdout=subprocess.DEVNULL, stderr=subprocess.DEVNULL, check=True)\n",
    "except subprocess.CalledProcessError as e:\n",
    "    print(f\"Error executing wrf.exe: {e}\")"
   ]
  },
  {
   "cell_type": "code",
   "execution_count": null,
   "id": "a51810c6-d4dd-4d21-9efe-11249ca70cd1",
   "metadata": {},
   "outputs": [],
   "source": [
    "\n",
    "\n",
    "\n",
    "\n",
    "\n",
    "\n"
   ]
  },
  {
   "cell_type": "code",
   "execution_count": null,
   "id": "da4a4b17-cef0-47c2-a730-239fd68f2085",
   "metadata": {},
   "outputs": [],
   "source": []
  }
 ],
 "metadata": {
  "kernelspec": {
   "display_name": "Python 3 (ipykernel)",
   "language": "python",
   "name": "python3"
  },
  "language_info": {
   "codemirror_mode": {
    "name": "ipython",
    "version": 3
   },
   "file_extension": ".py",
   "mimetype": "text/x-python",
   "name": "python",
   "nbconvert_exporter": "python",
   "pygments_lexer": "ipython3",
   "version": "3.11.5"
  }
 },
 "nbformat": 4,
 "nbformat_minor": 5
}
