{
 "cells": [
  {
   "cell_type": "markdown",
   "id": "28f9fc9a-9ab9-4211-8ff7-68726727e231",
   "metadata": {},
   "source": [
    "# To create Global Warming Increment (GWI) files from downloaded data"
   ]
  },
  {
   "cell_type": "code",
   "execution_count": null,
   "id": "fc0c58fc",
   "metadata": {},
   "outputs": [],
   "source": [
    "#exps = ['historical','ssp585','ssp370','ssp245','ssp126']"
   ]
  },
  {
   "cell_type": "code",
   "execution_count": 33,
   "id": "f508f7a9",
   "metadata": {
    "lines_to_next_cell": 1
   },
   "outputs": [],
   "source": [
    "import xarray as xr\n",
    "import numpy as np\n",
    "import os, glob, sys\n",
    "import datetime\n",
    "import pandas as pd\n"
   ]
  },
  {
   "cell_type": "code",
   "execution_count": 34,
   "id": "e9f0d970-1e0b-4e0d-837a-79704bce7254",
   "metadata": {},
   "outputs": [],
   "source": [
    "input_dir = 'Download_CMIP6/Download/'\n",
    "base_dir = '/Users/doan/Google Drive/My Drive/share/2024/PGW_DS/'"
   ]
  },
  {
   "cell_type": "code",
   "execution_count": 35,
   "id": "f019e8ba",
   "metadata": {},
   "outputs": [],
   "source": [
    "aa  = '1990-2019_2070-2099'\n",
    "g   = 'EC-Earth3'\n",
    "ssp = 'ssp585'\n",
    "varn = ['ts', 'ta', 'hur', 'ua', 'va', 'zg']\n",
    "gwi_dir = base_dir + '/GWI/' +ssp+'/' + g + '/' + aa +'/'\n",
    "if not os.path.exists(gwi_dir): os.makedirs(gwi_dir)"
   ]
  },
  {
   "cell_type": "code",
   "execution_count": 36,
   "id": "31ea0679",
   "metadata": {},
   "outputs": [
    {
     "name": "stdout",
     "output_type": "stream",
     "text": [
      "EC-Earth3 ssp585 ts\n",
      "EC-Earth3 ssp585 ta\n",
      "EC-Earth3 ssp585 hur\n",
      "EC-Earth3 ssp585 ua\n",
      "EC-Earth3 ssp585 va\n",
      "EC-Earth3 ssp585 zg\n"
     ]
    }
   ],
   "source": [
    "for v in varn[:]:\n",
    "    tbs, tbe = aa.split('_')[0].split('-') \n",
    "    tfs, tfe = aa.split('_')[1].split('-') \n",
    "    \n",
    "    hfile = glob.glob(input_dir+ '/'+g+ '/historical/'+v+'_*'+g+'*')[0]\n",
    "    rfile = glob.glob(input_dir+'/'+ g + '/'+ ssp+'/'+v+'_*'+g+'*')[0]\n",
    "\n",
    "    print(g, ssp, v)\n",
    "    \n",
    "    rd = xr.open_dataset(rfile)[v] \n",
    "    hd = xr.open_dataset(hfile)[v] \n",
    "        \n",
    "    hr_base1 = hd.sel(time = slice( tbs ,  tbe))\n",
    "    hr_base2 = rd.sel(time = slice( tbs ,  tbe))\n",
    "    # datetime format\n",
    "    if not type(hr_base2.time.values[0]) == np.datetime64:\n",
    "        xx  = [ datetime.datetime.strptime(str(t),'%Y-%m-%d %H:%M:%S') for t in hr_base2.time.values]\n",
    "        hr_base2.time.values[:] =xx\n",
    "    \n",
    "    hr_base = xr.concat([hr_base1, hr_base2], dim='time')\n",
    "    if hr_base.time.size != ( int(tbe) - int(tbs) + 1)*12: \n",
    "        sys.exit()\n",
    "        print('problem with baseline file')\n",
    "    \n",
    "    hr_targ = rd.sel(time = slice( tfs , tfe ))\n",
    "    \n",
    "    bmean = hr_base.groupby('time.month').mean('time')\n",
    "    tmean = hr_targ.groupby('time.month').mean('time')\n",
    "        \n",
    "    diff = tmean.copy()\n",
    "    diff[:] = tmean.values[:] - bmean.values[:]\n",
    "    \n",
    "    excluded_dims = ['month', 'lat', 'lon', 'plev']\n",
    "    # Identify all the dimensions in the dataset excluding the specified ones\n",
    "    dims_to_select = [dim for dim in diff.dims if dim not in excluded_dims]\n",
    "    # Select the first point along each of these dimensions\n",
    "    selection = {dim: 0 for dim in dims_to_select}\n",
    "   \n",
    "    do = diff.isel(selection)\n",
    "    do.to_netcdf(gwi_dir+v+'.nc' )\n",
    "              "
   ]
  },
  {
   "cell_type": "code",
   "execution_count": 37,
   "id": "7e1d4efb-980e-444c-8b76-45a38aaae23d",
   "metadata": {},
   "outputs": [],
   "source": [
    "import pywinter.winter as pyw\n",
    "import xesmf as xe"
   ]
  },
  {
   "cell_type": "code",
   "execution_count": 47,
   "id": "971b5aa5-614b-4e2a-84bb-353b06944e0a",
   "metadata": {},
   "outputs": [],
   "source": [
    "wrf_interfile  ='WRF_run/control/ERA5A:2023-01-01_00'\n",
    "run_id = 'tok_test_dom'"
   ]
  },
  {
   "cell_type": "code",
   "execution_count": 41,
   "id": "b9f95f87-5de0-4cd1-9c05-df73148fd1ef",
   "metadata": {},
   "outputs": [],
   "source": [
    "interfile = pyw.rinter(wrf_interfile) \n",
    "x = interfile['TT']\n",
    "slat, slon = x.geoinfo['STARTLAT'], x.geoinfo['STARTLON']\n",
    "dlat, dlon = x.geoinfo['DELTALAT'], x.geoinfo['DELTALON']\n",
    "shape = x.val.shape\n",
    "lev = x.level\n",
    "lat = [ slat + i*dlat for i in range(shape[-2]) ]\n",
    "lon = [ slon + i*dlon for i in range(shape[-1]) ]"
   ]
  },
  {
   "cell_type": "code",
   "execution_count": 43,
   "id": "1fdf79b7-a1fd-45e3-91a3-e017e1d997b7",
   "metadata": {},
   "outputs": [],
   "source": [
    "target_grid = xr.Dataset({\n",
    "    'lat': (['lat'], lat),\n",
    "    'lon': (['lon'], lon), \n",
    "})\n",
    "new_levels = xr.DataArray(lev, dims=\"plev\", name=\"plev\")  "
   ]
  },
  {
   "cell_type": "code",
   "execution_count": 44,
   "id": "b3e43e86-803d-43b2-a20f-bec4e87e51e4",
   "metadata": {},
   "outputs": [],
   "source": [
    "var_info = { 'RH': 'hur', 'TT':'ta', 'UU':'ua', 'VV':'va', 'GHT':'zg', 'SKINTEMP':'ts', 'SST':'ts' }"
   ]
  },
  {
   "cell_type": "code",
   "execution_count": 45,
   "id": "a3026b8b-3eae-4b24-ae5f-57b722b847ed",
   "metadata": {},
   "outputs": [
    {
     "name": "stdout",
     "output_type": "stream",
     "text": [
      "RH hur\n",
      "TT ta\n",
      "UU ua\n",
      "VV va\n",
      "GHT zg\n",
      "SKINTEMP ts\n",
      "SST ts\n"
     ]
    }
   ],
   "source": [
    "do = xr.Dataset()\n",
    "for k, v in var_info.items():\n",
    "    print(k, v)\n",
    "    f = gwi_dir+v+'.nc'\n",
    "    ds = xr.open_dataset(f)[v]   \n",
    "    \n",
    "    regridder = xe.Regridder(ds, target_grid, method='bilinear')\n",
    "    regridded_data = regridder(ds)\n",
    "    if not v in ['ts']: regridded_data = regridded_data.interp(plev=new_levels)    \n",
    "\n",
    "    do[k] = regridded_data"
   ]
  },
  {
   "cell_type": "code",
   "execution_count": 48,
   "id": "aaf3ba84-dbdf-46b3-b527-2da1bce9d5e3",
   "metadata": {},
   "outputs": [],
   "source": [
    "gwi_tdom_dir = base_dir + 'GWI4TDOM/' + run_id + '/'\n",
    "if not os.path.exists(gwi_tdom_dir): os.makedirs(gwi_tdom_dir)\n",
    "ofile = gwi_tdom_dir + '/'+ ssp + '.' + g + '.' + aa + '.nc'\n",
    "do.to_netcdf(ofile)"
   ]
  },
  {
   "cell_type": "code",
   "execution_count": 49,
   "id": "3fe72fd9-02f8-4098-a10d-6179617cc9aa",
   "metadata": {},
   "outputs": [
    {
     "data": {
      "text/plain": [
       "<matplotlib.collections.QuadMesh at 0x146ac76d0>"
      ]
     },
     "execution_count": 49,
     "metadata": {},
     "output_type": "execute_result"
    },
    {
     "data": {
      "image/png": "[encoded data removed]",
      "text/plain": [
       "<Figure size 640x480 with 2 Axes>"
      ]
     },
     "metadata": {},
     "output_type": "display_data"
    }
   ],
   "source": [
    "do.TT[0,2].plot()"
   ]
  }
 ],
 "metadata": {
  "jupytext": {
   "formats": "ipynb,py:percent"
  },
  "kernelspec": {
   "display_name": "Python 3 (ipykernel)",
   "language": "python",
   "name": "python3"
  },
  "language_info": {
   "codemirror_mode": {
    "name": "ipython",
    "version": 3
   },
   "file_extension": ".py",
   "mimetype": "text/x-python",
   "name": "python",
   "nbconvert_exporter": "python",
   "pygments_lexer": "ipython3",
   "version": "3.11.5"
  }
 },
 "nbformat": 4,
 "nbformat_minor": 5
}
