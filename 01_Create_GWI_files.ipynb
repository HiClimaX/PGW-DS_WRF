{
 "cells": [
  {
   "attachments": {},
   "cell_type": "markdown",
   "id": "0",
   "metadata": {},
   "source": [
    "# To create Global Warming Increment (GWI) files from downloaded data\n"
   ]
  },
  {
   "cell_type": "code",
   "execution_count": null,
   "id": "1",
   "metadata": {},
   "outputs": [],
   "source": [
    "#exps = ['historical','ssp585','ssp370','ssp245','ssp126']"
   ]
  },
  {
   "cell_type": "code",
   "execution_count": null,
   "id": "2",
   "metadata": {
    "lines_to_next_cell": 1
   },
   "outputs": [],
   "source": [
    "import xarray as xr\n",
    "import numpy as np\n",
    "import os, glob, sys\n",
    "import datetime\n",
    "import pandas as pd"
   ]
  },
  {
   "cell_type": "code",
   "execution_count": null,
   "id": "3",
   "metadata": {},
   "outputs": [],
   "source": [
    "# Please edit this section if necessary.\n",
    "input_dir = 'Download_CMIP6/Download/' \n",
    "base_dir = '/Users/doan/Google Drive/My Drive/share/2024/PGW_DS/'\n",
    "\n",
    "aa   = '1990-2019_2070-2099'\n",
    "g    = 'EC-Earth3'\n",
    "ssp  = 'ssp585'"
   ]
  },
  {
   "cell_type": "markdown",
   "id": "4",
   "metadata": {},
   "source": [
    "## Step 1 Calculate difference files from download CMIP6 data"
   ]
  },
  {
   "cell_type": "code",
   "execution_count": null,
   "id": "5",
   "metadata": {},
   "outputs": [],
   "source": [
    "varn = ['ts', 'ta', 'hur', 'ua', 'va', 'zg']\n",
    "gwi_dir = base_dir + '/GWI/' +ssp+'/' + g + '/' + aa +'/'\n",
    "if not os.path.exists(gwi_dir): os.makedirs(gwi_dir)"
   ]
  },
  {
   "cell_type": "code",
   "execution_count": null,
   "id": "6",
   "metadata": {},
   "outputs": [],
   "source": [
    "for v in varn[:]:\n",
    "    tbs, tbe = aa.split('_')[0].split('-') \n",
    "    tfs, tfe = aa.split('_')[1].split('-') \n",
    "    \n",
    "    hfile = glob.glob(input_dir+ '/'+g+ '/historical/'+v+'_*'+g+'*')[0]\n",
    "    rfile = glob.glob(input_dir+'/'+ g + '/'+ ssp+'/'+v+'_*'+g+'*')[0]\n",
    "\n",
    "    print(g, ssp, v)\n",
    "    \n",
    "    rd = xr.open_dataset(rfile)[v] \n",
    "    hd = xr.open_dataset(hfile)[v] \n",
    "        \n",
    "    hr_base1 = hd.sel(time = slice( tbs ,  tbe))\n",
    "    hr_base2 = rd.sel(time = slice( tbs ,  tbe))\n",
    "    # datetime format\n",
    "    if not type(hr_base2.time.values[0]) == np.datetime64:\n",
    "        xx  = [ datetime.datetime.strptime(str(t),'%Y-%m-%d %H:%M:%S') for t in hr_base2.time.values]\n",
    "        hr_base2.time.values[:] =xx\n",
    "    \n",
    "    hr_base = xr.concat([hr_base1, hr_base2], dim='time')\n",
    "    if hr_base.time.size != ( int(tbe) - int(tbs) + 1)*12: \n",
    "        sys.exit()\n",
    "        print('problem with baseline file')\n",
    "    \n",
    "    hr_targ = rd.sel(time = slice( tfs , tfe ))\n",
    "    \n",
    "    bmean = hr_base.groupby('time.month').mean('time')\n",
    "    tmean = hr_targ.groupby('time.month').mean('time')\n",
    "        \n",
    "    diff = tmean.copy()\n",
    "    diff[:] = tmean.values[:] - bmean.values[:]\n",
    "    \n",
    "    excluded_dims = ['month', 'lat', 'lon', 'plev']\n",
    "    # Identify all the dimensions in the dataset excluding the specified ones\n",
    "    dims_to_select = [dim for dim in diff.dims if dim not in excluded_dims]\n",
    "    # Select the first point along each of these dimensions\n",
    "    selection = {dim: 0 for dim in dims_to_select}\n",
    "   \n",
    "    do = diff.isel(selection)\n",
    "    do.to_netcdf(gwi_dir+v+'.nc' )\n",
    "              "
   ]
  },
  {
   "cell_type": "markdown",
   "id": "7",
   "metadata": {},
   "source": [
    "## Step 2: Extract GWI data and regrid to target resolution and p levels \n",
    "\n",
    "* read sample wrf intermediate file to get lat, lon, and level information\n",
    "\n",
    "* define new grid and vertical layers\n",
    "\n",
    "* read GWI files the regrid, vertically interpolate\n",
    "\n",
    "* write out to netcdf file\n"
   ]
  },
  {
   "cell_type": "code",
   "execution_count": null,
   "id": "8",
   "metadata": {},
   "outputs": [],
   "source": [
    "import pywinter.winter as pyw\n",
    "import xesmf as xe"
   ]
  },
  {
   "cell_type": "markdown",
   "id": "9",
   "metadata": {},
   "source": [
    "### read sample wrf intermediate file to get lat, lon, and level information"
   ]
  },
  {
   "cell_type": "code",
   "execution_count": null,
   "id": "10",
   "metadata": {},
   "outputs": [],
   "source": [
    "wrf_interfile = \"era5/\" + 'ERA5A:2023-01-01_00'\n",
    "run_id = 'tok_test_dom'"
   ]
  },
  {
   "cell_type": "code",
   "execution_count": null,
   "id": "11",
   "metadata": {},
   "outputs": [],
   "source": [
    "interfile = pyw.rinter(wrf_interfile) \n",
    "x = interfile['TT']\n",
    "slat, slon = x.geoinfo['STARTLAT'], x.geoinfo['STARTLON']\n",
    "dlat, dlon = x.geoinfo['DELTALAT'], x.geoinfo['DELTALON']\n",
    "shape = x.val.shape\n",
    "lev = x.level\n",
    "lat = [ slat + i*dlat for i in range(shape[-2]) ]\n",
    "lon = [ slon + i*dlon for i in range(shape[-1]) ]"
   ]
  },
  {
   "cell_type": "markdown",
   "id": "12",
   "metadata": {},
   "source": [
    "### define new grid and vertical layers"
   ]
  },
  {
   "cell_type": "code",
   "execution_count": null,
   "id": "13",
   "metadata": {},
   "outputs": [],
   "source": [
    "target_grid = xr.Dataset({\n",
    "    'lat': (['lat'], lat),\n",
    "    'lon': (['lon'], lon), \n",
    "})\n",
    "new_levels = xr.DataArray(lev, dims=\"plev\", name=\"plev\")  "
   ]
  },
  {
   "cell_type": "markdown",
   "id": "14",
   "metadata": {},
   "source": [
    "### read GWI files the regrid, vertically interpolate"
   ]
  },
  {
   "cell_type": "code",
   "execution_count": null,
   "id": "15",
   "metadata": {},
   "outputs": [],
   "source": [
    "var_info = { 'RH': 'hur', 'TT':'ta', 'UU':'ua', 'VV':'va', 'GHT':'zg', 'SKINTEMP':'ts', 'SST':'ts' }"
   ]
  },
  {
   "cell_type": "code",
   "execution_count": null,
   "id": "16",
   "metadata": {},
   "outputs": [],
   "source": [
    "dx = xr.Dataset()\n",
    "for k, v in var_info.items():\n",
    "    print(k, v)\n",
    "    f = gwi_dir+v+'.nc'\n",
    "    ds = xr.open_dataset(f)[v]   \n",
    "    \n",
    "    regridder = xe.Regridder(ds, target_grid, method='bilinear')\n",
    "    regridded_data = regridder(ds)\n",
    "    if not v in ['ts']: regridded_data = regridded_data.interp(plev=new_levels)    \n",
    "\n",
    "    dx[k] = regridded_data"
   ]
  },
  {
   "cell_type": "markdown",
   "id": "17",
   "metadata": {},
   "source": [
    "### write out to netcdf file"
   ]
  },
  {
   "cell_type": "code",
   "execution_count": null,
   "id": "18",
   "metadata": {},
   "outputs": [],
   "source": [
    "gwi_tdom_dir = base_dir + 'GWI4TDOM/' + run_id + '/'\n",
    "if not os.path.exists(gwi_tdom_dir): os.makedirs(gwi_tdom_dir)\n",
    "ofile = gwi_tdom_dir + '/'+ ssp + '.' + g + '.' + aa + '.nc'\n",
    "dx.to_netcdf(ofile) #fix data tosave ofile"
   ]
  },
  {
   "cell_type": "markdown",
   "id": "19",
   "metadata": {},
   "source": [
    "## Plot test"
   ]
  },
  {
   "cell_type": "code",
   "execution_count": null,
   "id": "20",
   "metadata": {},
   "outputs": [],
   "source": [
    "import cartopy.crs as ccrs\n",
    "import cartopy.feature as cfeature\n",
    "import matplotlib.pyplot as plt"
   ]
  },
  {
   "cell_type": "code",
   "execution_count": null,
   "id": "21",
   "metadata": {},
   "outputs": [],
   "source": [
    "plt.figure(figsize=(12, 6))\n",
    "ax = plt.axes(projection=ccrs.PlateCarree())\n",
    "ds[0].plot(ax=ax)\n",
    "ax.coastlines()\n",
    "ax.add_feature(cfeature.BORDERS)\n",
    "ax.gridlines(draw_labels=True)"
   ]
  },
  {
   "cell_type": "code",
   "execution_count": null,
   "id": "22",
   "metadata": {},
   "outputs": [],
   "source": [
    "plt.figure(figsize=(12, 6))\n",
    "ax = plt.axes(projection=ccrs.PlateCarree())\n",
    "dx.SKINTEMP[0].plot(ax=ax)\n",
    "ax.coastlines()\n",
    "ax.add_feature(cfeature.BORDERS)\n",
    "ax.gridlines(draw_labels=True)"
   ]
  }
 ],
 "metadata": {
  "jupytext": {
   "formats": "ipynb,py:percent"
  },
  "kernelspec": {
   "display_name": "pgw-ds",
   "language": "python",
   "name": "python3"
  },
  "language_info": {
   "codemirror_mode": {
    "name": "ipython",
    "version": 3
   },
   "file_extension": ".py",
   "mimetype": "text/x-python",
   "name": "python",
   "nbconvert_exporter": "python",
   "pygments_lexer": "ipython3",
   "version": "3.10.13"
  }
 },
 "nbformat": 4,
 "nbformat_minor": 5
}
