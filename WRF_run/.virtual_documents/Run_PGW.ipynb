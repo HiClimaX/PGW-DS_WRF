


import os
import shutil
import fnmatch

def copy_files_except(src, dst, exclude_patterns):
    # Ensure the destination directory exists
    if not os.path.exists(dst): os.makedirs(dst)

    # Iterate over all items in the source directory
    for item in os.listdir(src):
        s = os.path.join(src, item)
        d = os.path.join(dst, item)

        # Check if the file matches any of the exclude patterns
        if os.path.isfile(s) and not any(fnmatch.fnmatch(item, pattern) for pattern in exclude_patterns):
            shutil.copy2(s, d)

# Example usage:
run_dir = "control"

src_dir = run_dir
dst_dir = 'DDS'

# Patterns to exclude (e.g., *.txt files and files starting with 'temp')
exclude_patterns = ['met_em*.nc', 'wrfout_*.nc', '*:*']

copy_files_except(src_dir, dst_dir, exclude_patterns)


ls DDS/






idir = '/Users/doan/Documents/GitHub/Pseudo-Global-Warming-Downscaling/cmip6-to-wrfinterm-master/sample/EC-Earth3/'
import glob
import sys
import os
import xarray as xr

files = sorted(glob.glob(idir + '*nc'))
#print(files)
for f in files:
    ds = xr.open_dataset(f)
    vname = os.path.basename(f.split('_')[0])
    d = ds[vname]
    print(vname, d.dims, d.shape, d.attrs['long_name'])


d.attrs['standard_name']
d.attrs['long_name']


import pywinter.winter as pyw

prefix = 'ERA5A'
src_dir = run_dir
dst_dir = 'PGW_DS'

ff = sorted(glob.glob(src_dir+'/ERA*'))
      
for f in ff[:]:
    
    print(f)
    
    prefix = os.path.basename(f).split(':')[0]
    
    date = f.split(':')[1]

    infile = src_dir+'/'+prefix+':' + date

    interfile = pyw.rinter(infile)

    var = list(interfile.keys())
    
    x = interfile[var[0]]
    slat, slon = x.geoinfo['STARTLAT'], x.geoinfo['STARTLON']
    dlat, dlon = x.geoinfo['DELTALAT'], x.geoinfo['DELTALON']
    winter_geo = pyw.Geo0(slat,slon,dlat,dlon)

    total_fields = []
    
    for v in var:
        
        x = interfile[v]
        
        # Here to put data on renalysis
        if v == 'SKINTEMP': values = x.val #+ 1.
        else: values = x.val
        if v == 'TT': values = x.val + 1.
        else: values = x.val
        # *********************
            
        #=======================
        # Here to write intermediate
        if v in ['SM', 'ST']: # soil variables
            sl_layer = x.level
            winter = pyw.Vsl(v,values,sl_layer)
        elif v in ['RH', 'TT', 'UU', 'VV', 'GHT']: # possible error in future if more 3-D variables exist
            winter = pyw.V3dp(v,values,plevs)
        else:
            winter = pyw.V2d(v,values,x.general['DESC'],x.general['UNITS'], x.general['XLVL'])
        total_fields.append(winter)

    pyw.cinter(prefix,date, winter_geo, total_fields, dst_dir)
    


os.system('cd '+dst_dir+'; ./metgrid.exe  > NUL 2>&1; cd -')


os.system('cd '+dst_dir+'; ./real.exe  > NUL 2>&1; cd -')


os.system('cd '+dst_dir+';mpirun -np 4 ./wrf.exe; cd -')
