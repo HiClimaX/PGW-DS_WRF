import numpy as np


!git clone https://github.com/dniloash/Pywinter.git





np.__version__



%conda install pywinter -c conda-forge


import pywinter.winter as pyw
