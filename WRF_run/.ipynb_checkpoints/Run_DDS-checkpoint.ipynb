{
 "cells": [
  {
   "cell_type": "markdown",
   "id": "55a82dc5-ada7-45cd-8aa6-37ce1233f87d",
   "metadata": {},
   "source": [
    "### copy all foulder excepts specific files"
   ]
  },
  {
   "cell_type": "code",
   "execution_count": 49,
   "id": "4a5bfbf5-aa87-45cd-a901-d02ca7559f09",
   "metadata": {
    "tags": []
   },
   "outputs": [],
   "source": [
    "import os\n",
    "import shutil\n",
    "import fnmatch\n",
    "\n",
    "def copy_files_except(src, dst, exclude_patterns):\n",
    "    # Ensure the destination directory exists\n",
    "    if not os.path.exists(dst): os.makedirs(dst)\n",
    "\n",
    "    # Iterate over all items in the source directory\n",
    "    for item in os.listdir(src):\n",
    "        s = os.path.join(src, item)\n",
    "        d = os.path.join(dst, item)\n",
    "\n",
    "        # Check if the file matches any of the exclude patterns\n",
    "        if os.path.isfile(s) and not any(fnmatch.fnmatch(item, pattern) for pattern in exclude_patterns):\n",
    "            shutil.copy2(s, d)\n",
    "\n",
    "# Example usage:\n",
    "run_dir = \"control\"\n",
    "\n",
    "src_dir = run_dir\n",
    "dst_dir = 'PGW_DS'\n",
    "\n",
    "# Patterns to exclude (e.g., *.txt files and files starting with 'temp')\n",
    "exclude_patterns = ['met_em*.nc', 'wrfout_*.nc', 'xxx']\n",
    "\n",
    "copy_files_except(src_dir, dst_dir, exclude_patterns)"
   ]
  },
  {
   "cell_type": "code",
   "execution_count": null,
   "id": "1693e9c1-9f04-4ffb-a040-bb6e70875347",
   "metadata": {
    "tags": []
   },
   "outputs": [],
   "source": []
  },
  {
   "cell_type": "markdown",
   "id": "41d049cb-1439-4d2d-9ad1-e5b96a2f5520",
   "metadata": {},
   "source": [
    "## Modify intermediate files using pywinter library\n",
    "\n",
    "    #print(interfile.keys())\n",
    "    #print(interfile['TT'].general)\n",
    "    #print(interfile['TT'].geoinfo)\n",
    "    ##print(interfile['TT'].val)\n",
    "    #print(interfile['TT'].val.shape)"
   ]
  },
  {
   "cell_type": "code",
   "execution_count": 98,
   "id": "1c564b75-3675-4bb2-9510-a661b33e682c",
   "metadata": {
    "tags": []
   },
   "outputs": [
    {
     "name": "stdout",
     "output_type": "stream",
     "text": [
      "control/ERA5A:2023-01-01_00\n",
      "ERA5A:2023-01-01_00\n",
      "control/ERA5A:2023-01-01_03\n",
      "ERA5A:2023-01-01_03\n",
      "control/ERA5A:2023-01-01_06\n",
      "ERA5A:2023-01-01_06\n",
      "control/ERA5A:2023-01-01_09\n",
      "ERA5A:2023-01-01_09\n",
      "control/ERA5A:2023-01-01_12\n",
      "ERA5A:2023-01-01_12\n",
      "control/ERA5A:2023-01-01_15\n",
      "ERA5A:2023-01-01_15\n",
      "control/ERA5A:2023-01-01_18\n",
      "ERA5A:2023-01-01_18\n",
      "control/ERA5S:2023-01-01_00\n",
      "ERA5S:2023-01-01_00\n",
      "control/ERA5S:2023-01-01_03\n",
      "ERA5S:2023-01-01_03\n",
      "control/ERA5S:2023-01-01_06\n",
      "ERA5S:2023-01-01_06\n",
      "control/ERA5S:2023-01-01_09\n",
      "ERA5S:2023-01-01_09\n",
      "control/ERA5S:2023-01-01_12\n",
      "ERA5S:2023-01-01_12\n",
      "control/ERA5S:2023-01-01_15\n",
      "ERA5S:2023-01-01_15\n",
      "control/ERA5S:2023-01-01_18\n",
      "ERA5S:2023-01-01_18\n"
     ]
    }
   ],
   "source": [
    "import pywinter.winter as pyw\n",
    "\n",
    "prefix = 'ERA5A'\n",
    "src_dir = run_dir\n",
    "dst_dir = 'PGW_DS'\n",
    "\n",
    "ff = sorted(glob.glob(src_dir+'/ERA*'))\n",
    "      \n",
    "for f in ff[:]:\n",
    "    \n",
    "    print(f)\n",
    "    \n",
    "    prefix = os.path.basename(f).split(':')[0]\n",
    "    \n",
    "    date = f.split(':')[1]\n",
    "\n",
    "    infile = src_dir+'/'+prefix+':' + date\n",
    "\n",
    "    interfile = pyw.rinter(infile)\n",
    "\n",
    "    var = list(interfile.keys())\n",
    "    \n",
    "    x = interfile[var[0]]\n",
    "    slat, slon = x.geoinfo['STARTLAT'], x.geoinfo['STARTLON']\n",
    "    dlat, dlon = x.geoinfo['DELTALAT'], x.geoinfo['DELTALON']\n",
    "    winter_geo = pyw.Geo0(slat,slon,dlat,dlon)\n",
    "\n",
    "    total_fields = []\n",
    "    \n",
    "    for v in var:\n",
    "        \n",
    "        x = interfile[v]\n",
    "        \n",
    "        # Here to put data on renalysis\n",
    "        if v == 'SKINTEMP': values = x.val #+ 1.\n",
    "        else: values = x.val\n",
    "        if v == 'TT': values = x.val + 1.\n",
    "        else: values = x.val\n",
    "        # *********************\n",
    "            \n",
    "        #=======================\n",
    "        # Here to write intermediate\n",
    "        if v in ['SM', 'ST']: # soil variables\n",
    "            sl_layer = x.level\n",
    "            winter = pyw.Vsl(v,values,sl_layer)\n",
    "        elif v in ['RH', 'TT', 'UU', 'VV', 'GHT']: # possible error in future if more 3-D variables exist\n",
    "            winter = pyw.V3dp(v,values,plevs)\n",
    "        else:\n",
    "            winter = pyw.V2d(v,values,x.general['DESC'],x.general['UNITS'], x.general['XLVL'])\n",
    "        total_fields.append(winter)\n",
    "\n",
    "    pyw.cinter(prefix,date, winter_geo, total_fields, dst_dir)\n",
    "    "
   ]
  },
  {
   "cell_type": "code",
   "execution_count": 99,
   "id": "b8cd0e6c-b91e-4d84-a36b-f05638ae65cb",
   "metadata": {
    "tags": []
   },
   "outputs": [
    {
     "name": "stdout",
     "output_type": "stream",
     "text": [
      "/Users/doan/Documents/GitHub/Pseudo-Global-Warming-Downscaling/03_WRF_run\n"
     ]
    },
    {
     "data": {
      "text/plain": [
       "0"
      ]
     },
     "execution_count": 99,
     "metadata": {},
     "output_type": "execute_result"
    }
   ],
   "source": [
    "os.system('cd '+dst_dir+'; ./metgrid.exe  > NUL 2>&1; cd -')"
   ]
  },
  {
   "cell_type": "code",
   "execution_count": 100,
   "id": "a485562c-045b-49e5-b683-5ec9800f574a",
   "metadata": {
    "tags": []
   },
   "outputs": [
    {
     "name": "stdout",
     "output_type": "stream",
     "text": [
      "/Users/doan/Documents/GitHub/Pseudo-Global-Warming-Downscaling/03_WRF_run\n"
     ]
    },
    {
     "data": {
      "text/plain": [
       "0"
      ]
     },
     "execution_count": 100,
     "metadata": {},
     "output_type": "execute_result"
    }
   ],
   "source": [
    "os.system('cd '+dst_dir+'; ./real.exe  > NUL 2>&1; cd -')"
   ]
  },
  {
   "cell_type": "code",
   "execution_count": 101,
   "id": "585a3d60-7737-4c8f-865e-8fcc8c7ad809",
   "metadata": {
    "tags": []
   },
   "outputs": [
    {
     "name": "stderr",
     "output_type": "stream",
     "text": [
      " starting wrf task            0  of            4\n",
      " starting wrf task            1  of            4\n",
      " starting wrf task            2  of            4\n",
      " starting wrf task            3  of            4\n"
     ]
    },
    {
     "name": "stdout",
     "output_type": "stream",
     "text": [
      "/Users/doan/Documents/GitHub/Pseudo-Global-Warming-Downscaling/03_WRF_run\n"
     ]
    },
    {
     "data": {
      "text/plain": [
       "0"
      ]
     },
     "execution_count": 101,
     "metadata": {},
     "output_type": "execute_result"
    }
   ],
   "source": [
    "os.system('cd '+dst_dir+';mpirun -np 4 ./wrf.exe; cd -')"
   ]
  }
 ],
 "metadata": {
  "kernelspec": {
   "display_name": "Python 3 (ipykernel)",
   "language": "python",
   "name": "python3"
  },
  "language_info": {
   "codemirror_mode": {
    "name": "ipython",
    "version": 3
   },
   "file_extension": ".py",
   "mimetype": "text/x-python",
   "name": "python",
   "nbconvert_exporter": "python",
   "pygments_lexer": "ipython3",
   "version": "3.12.4"
  }
 },
 "nbformat": 4,
 "nbformat_minor": 5
}
