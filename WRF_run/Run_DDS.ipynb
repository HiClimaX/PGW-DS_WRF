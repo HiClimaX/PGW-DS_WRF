{
 "cells": [
  {
   "cell_type": "markdown",
   "id": "55a82dc5-ada7-45cd-8aa6-37ce1233f87d",
   "metadata": {},
   "source": [
    "### copy all foulder excepts specific files"
   ]
  },
  {
   "cell_type": "code",
   "execution_count": 49,
   "id": "4a5bfbf5-aa87-45cd-a901-d02ca7559f09",
   "metadata": {
    "tags": []
   },
   "outputs": [],
   "source": [
    "import os\n",
    "import shutil\n",
    "import fnmatch\n",
    "\n",
    "def copy_files_except(src, dst, exclude_patterns):\n",
    "    # Ensure the destination directory exists\n",
    "    if not os.path.exists(dst): os.makedirs(dst)\n",
    "\n",
    "    # Iterate over all items in the source directory\n",
    "    for item in os.listdir(src):\n",
    "        s = os.path.join(src, item)\n",
    "        d = os.path.join(dst, item)\n",
    "\n",
    "        # Check if the file matches any of the exclude patterns\n",
    "        if os.path.isfile(s) and not any(fnmatch.fnmatch(item, pattern) for pattern in exclude_patterns):\n",
    "            shutil.copy2(s, d)\n",
    "\n",
    "# Example usage:\n",
    "run_dir = \"control\"\n",
    "\n",
    "src_dir = run_dir\n",
    "dst_dir = 'PGW_DS'\n",
    "\n",
    "# Patterns to exclude (e.g., *.txt files and files starting with 'temp')\n",
    "exclude_patterns = ['met_em*.nc', 'wrfout_*.nc', 'xxx']\n",
    "\n",
    "copy_files_except(src_dir, dst_dir, exclude_patterns)"
   ]
  },
  {
   "cell_type": "code",
   "execution_count": null,
   "id": "36390c10-4bf8-4f4e-86aa-46fec4d2e0e3",
   "metadata": {},
   "outputs": [],
   "source": [
    "idir = '/Users/doan/Documents/GitHub/Pseudo-Global-Warming-Downscaling/cmip6-to-wrfinterm-master/sample/EC-Earth3/'\n",
    "import glob\n",
    "import sys\n",
    "import os\n",
    "import xarray as xr\n",
    "\n",
    "files = sorted(glob.glob(idir + '*nc'))\n",
    "#print(files)\n",
    "for f in files:\n",
    "    ds = xr.open_dataset(f)\n",
    "    vname = os.path.basename(f.split('_')[0])\n",
    "    d = ds[vname]\n",
    "    print(vname, d.dims, d.shape, d.attrs['long_name'])"
   ]
  },
  {
   "cell_type": "code",
   "execution_count": null,
   "id": "1693e9c1-9f04-4ffb-a040-bb6e70875347",
   "metadata": {
    "tags": []
   },
   "outputs": [],
   "source": []
  },
  {
   "cell_type": "code",
   "execution_count": 99,
   "id": "b8cd0e6c-b91e-4d84-a36b-f05638ae65cb",
   "metadata": {
    "tags": []
   },
   "outputs": [
    {
     "name": "stdout",
     "output_type": "stream",
     "text": [
      "/Users/doan/Documents/GitHub/Pseudo-Global-Warming-Downscaling/03_WRF_run\n"
     ]
    },
    {
     "data": {
      "text/plain": [
       "0"
      ]
     },
     "execution_count": 99,
     "metadata": {},
     "output_type": "execute_result"
    }
   ],
   "source": [
    "os.system('cd '+dst_dir+'; ./metgrid.exe  > NUL 2>&1; cd -')"
   ]
  },
  {
   "cell_type": "code",
   "execution_count": 100,
   "id": "a485562c-045b-49e5-b683-5ec9800f574a",
   "metadata": {
    "tags": []
   },
   "outputs": [
    {
     "name": "stdout",
     "output_type": "stream",
     "text": [
      "/Users/doan/Documents/GitHub/Pseudo-Global-Warming-Downscaling/03_WRF_run\n"
     ]
    },
    {
     "data": {
      "text/plain": [
       "0"
      ]
     },
     "execution_count": 100,
     "metadata": {},
     "output_type": "execute_result"
    }
   ],
   "source": [
    "os.system('cd '+dst_dir+'; ./real.exe  > NUL 2>&1; cd -')"
   ]
  },
  {
   "cell_type": "code",
   "execution_count": 101,
   "id": "585a3d60-7737-4c8f-865e-8fcc8c7ad809",
   "metadata": {
    "tags": []
   },
   "outputs": [
    {
     "name": "stderr",
     "output_type": "stream",
     "text": [
      " starting wrf task            0  of            4\n",
      " starting wrf task            1  of            4\n",
      " starting wrf task            2  of            4\n",
      " starting wrf task            3  of            4\n"
     ]
    },
    {
     "name": "stdout",
     "output_type": "stream",
     "text": [
      "/Users/doan/Documents/GitHub/Pseudo-Global-Warming-Downscaling/03_WRF_run\n"
     ]
    },
    {
     "data": {
      "text/plain": [
       "0"
      ]
     },
     "execution_count": 101,
     "metadata": {},
     "output_type": "execute_result"
    }
   ],
   "source": [
    "os.system('cd '+dst_dir+';mpirun -np 4 ./wrf.exe; cd -')"
   ]
  }
 ],
 "metadata": {
  "kernelspec": {
   "display_name": "Python 3 (ipykernel)",
   "language": "python",
   "name": "python3"
  },
  "language_info": {
   "codemirror_mode": {
    "name": "ipython",
    "version": 3
   },
   "file_extension": ".py",
   "mimetype": "text/x-python",
   "name": "python",
   "nbconvert_exporter": "python",
   "pygments_lexer": "ipython3",
   "version": "3.11.5"
  }
 },
 "nbformat": 4,
 "nbformat_minor": 5
}
