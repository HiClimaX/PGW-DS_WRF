{
 "cells": [
  {
   "cell_type": "code",
   "execution_count": null,
   "id": "f843e1b1",
   "metadata": {
    "lines_to_next_cell": 2
   },
   "outputs": [],
   "source": [
    "\"\"\"\n",
    "Created on Fri Oct 30 15:08:29 2020\n",
    "conda install -c conda-forge intake\n",
    "conda install -c conda-forge intake-esm\n",
    "\n",
    "@author: doan\n",
    "\"\"\""
   ]
  },
  {
   "cell_type": "code",
   "execution_count": null,
   "id": "3f34257c",
   "metadata": {},
   "outputs": [],
   "source": [
    "import intake\n",
    "import xarray as xr \n",
    "#import proplot as plot \n",
    "import matplotlib.pyplot as plt\n",
    "import sys\n",
    "import pandas as pd\n",
    "import os\n",
    "# necessary url\n",
    "url = \"https://raw.githubusercontent.com/NCAR/intake-esm-datastore/master/catalogs/pangeo-cmip6.json\"\n",
    "# open the catalog\n",
    "dataframe = intake.open_esm_datastore(url)"
   ]
  },
  {
   "cell_type": "code",
   "execution_count": null,
   "id": "64be7e65",
   "metadata": {},
   "outputs": [],
   "source": [
    "dataframe.df.columns\n",
    "df = dataframe.df"
   ]
  },
  {
   "cell_type": "code",
   "execution_count": null,
   "id": "43f1f852",
   "metadata": {},
   "outputs": [],
   "source": [
    "c = 'institution_id'\n",
    "inss = pd.read_csv('cmip6_info/'+c+'.csv',index_col=0)[c].values\n",
    "c = 'experiment_id'\n",
    "exps = pd.read_csv('cmip6_info/'+c+'.csv',index_col=0)[c].values\n",
    "c = 'variable_id'\n",
    "varss = pd.read_csv('cmip6_info/'+c+'.csv',index_col=0)[c].values\n",
    "c = 'member_id'\n",
    "mems = pd.read_csv('cmip6_info/'+c+'.csv',index_col=0)[c].values"
   ]
  },
  {
   "cell_type": "code",
   "execution_count": null,
   "id": "a995c13f",
   "metadata": {},
   "outputs": [],
   "source": []
  },
  {
   "cell_type": "code",
   "execution_count": null,
   "id": "7db18d3d",
   "metadata": {},
   "outputs": [],
   "source": []
  },
  {
   "cell_type": "code",
   "execution_count": null,
   "id": "4dfcd4a3",
   "metadata": {},
   "outputs": [],
   "source": [
    "#for ins in ['MIROC', 'NCAR', 'MOHC',  'ECMWF'][:3]: #inss[:0]:\n",
    "for ins in inss[:]:    \n",
    "    for exp in ['historical','ssp585','ssp370','ssp245','ssp126'][: ]:\n",
    "        for mem in ['r2i1p1f1' ]:\n",
    "            \n",
    "            for var in ['tas','ta','ua','va','hur','zg','ts'][:]:\n",
    "                \n",
    "                models = dataframe.search(experiment_id=exp,table_id='Amon',\n",
    "                                          variable_id=var,\n",
    "                                          institution_id=ins,\n",
    "                                          member_id=mem)  \n",
    "                \n",
    "                \n",
    "                print(var, exp, ins, mem, len(models.df))\n",
    "                \n",
    "                if len(models.df) > 0:\n",
    "                    print('Download')\n",
    "                    \n",
    "                    if True:\n",
    "                        \n",
    "                        try:\n",
    "                        \n",
    "                            datasets = models.to_dataset_dict()\n",
    "                            for k, v in datasets.items():\n",
    "                                odir = 'Download_all/'+ins+'/'+exp+'/'\n",
    "                                if not os.path.exists(odir): os.makedirs(odir)\n",
    "                                ofile = odir + var + '_'+ k + '_'+mem+'.nc'\n",
    "                                print('write to ',ofile)\n",
    "                                v.to_netcdf(ofile)\n",
    "                        except:\n",
    "                            print('fail')"
   ]
  },
  {
   "cell_type": "code",
   "execution_count": null,
   "id": "ff5ebda9",
   "metadata": {},
   "outputs": [],
   "source": []
  },
  {
   "cell_type": "code",
   "execution_count": null,
   "id": "3511d6d8",
   "metadata": {},
   "outputs": [],
   "source": []
  },
  {
   "cell_type": "code",
   "execution_count": null,
   "id": "9285f901",
   "metadata": {},
   "outputs": [],
   "source": []
  },
  {
   "cell_type": "code",
   "execution_count": null,
   "id": "7637cde5",
   "metadata": {},
   "outputs": [],
   "source": []
  },
  {
   "cell_type": "code",
   "execution_count": null,
   "id": "3ee6e132",
   "metadata": {},
   "outputs": [],
   "source": []
  },
  {
   "cell_type": "code",
   "execution_count": null,
   "id": "57b26fe2",
   "metadata": {},
   "outputs": [],
   "source": []
  },
  {
   "cell_type": "code",
   "execution_count": null,
   "id": "456bdbef",
   "metadata": {},
   "outputs": [],
   "source": []
  },
  {
   "cell_type": "code",
   "execution_count": null,
   "id": "1ff10902",
   "metadata": {},
   "outputs": [],
   "source": []
  },
  {
   "cell_type": "code",
   "execution_count": null,
   "id": "f236f373",
   "metadata": {},
   "outputs": [],
   "source": []
  },
  {
   "cell_type": "code",
   "execution_count": null,
   "id": "967b8a52",
   "metadata": {},
   "outputs": [],
   "source": []
  },
  {
   "cell_type": "code",
   "execution_count": null,
   "id": "15b46ed2",
   "metadata": {},
   "outputs": [],
   "source": []
  },
  {
   "cell_type": "code",
   "execution_count": null,
   "id": "64c64ea6",
   "metadata": {
    "lines_to_next_cell": 2
   },
   "outputs": [],
   "source": [
    "sys.exit()\n",
    "models = dataframe.search(experiment_id='historical',\n",
    "                              table_id='Amon',\n",
    "                              variable_id='tas',\n",
    "                              institution_id='NCAR',\n",
    "                              member_id='r11i1p1f1')"
   ]
  },
  {
   "cell_type": "code",
   "execution_count": null,
   "id": "2084c744",
   "metadata": {},
   "outputs": [],
   "source": [
    "datasets = models.to_dataset_dict()\n",
    "dset = datasets['CMIP.NCAR.CESM2.historical.Amon.gn']"
   ]
  },
  {
   "cell_type": "code",
   "execution_count": null,
   "id": "e2e9b34a",
   "metadata": {
    "lines_to_next_cell": 2
   },
   "outputs": [],
   "source": [
    "fig, ax = plot.subplots(axwidth=4.5, tight=True,\n",
    "                        proj='robin', proj_kw={'lon_0': 180},)\n",
    "# format options\n",
    "ax.format(land=False, coast=True, innerborders=True, borders=True,\n",
    "          labels=True, geogridlinewidth=0,)\n",
    "map1 = ax.contourf(dset['lon'], dset['lat'], dset['tas'][0,0,:,:],\n",
    "                   cmap='IceFire', extend='both')\n",
    "ax.colorbar(map1, loc='b', shrink=0.5, extendrect=True)\n",
    "plt.show()"
   ]
  }
 ],
 "metadata": {
  "jupytext": {
   "cell_metadata_filter": "-all",
   "encoding": "# -*- coding: utf-8 -*-",
   "executable": "/usr/bin/env python3",
   "formats": "ipynb,py:percent",
   "main_language": "python"
  }
 },
 "nbformat": 4,
 "nbformat_minor": 5
}
