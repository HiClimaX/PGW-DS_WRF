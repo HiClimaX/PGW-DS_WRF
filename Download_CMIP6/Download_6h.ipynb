{
 "cells": [
  {
   "cell_type": "code",
   "execution_count": null,
   "id": "477c4fe5-55bd-4fda-a8f2-7c3874d2d4fa",
   "metadata": {},
   "outputs": [],
   "source": []
  },
  {
   "cell_type": "code",
   "execution_count": 1,
   "id": "c63679b9-8aa5-40ec-af02-1d86452529ae",
   "metadata": {},
   "outputs": [],
   "source": [
    "import intake\n",
    "import os"
   ]
  },
  {
   "cell_type": "code",
   "execution_count": 2,
   "id": "862884b6-92db-4a09-b358-a9f4fb2afae7",
   "metadata": {},
   "outputs": [
    {
     "name": "stderr",
     "output_type": "stream",
     "text": [
      "/Users/doan/anaconda3_2023.09-0/envs/intake-esm/lib/python3.11/site-packages/fastprogress/fastprogress.py:107: UserWarning: Couldn't import ipywidgets properly, progress bar will use console behavior\n",
      "  warn(\"Couldn't import ipywidgets properly, progress bar will use console behavior\")\n"
     ]
    }
   ],
   "source": [
    "url = \"https://raw.githubusercontent.com/NCAR/intake-esm-datastore/master/catalogs/pangeo-cmip6.json\"\n",
    "# open the catalog\n",
    "dataframe = intake.open_esm_datastore(url)\n",
    "dataframe.df.columns\n",
    "df = dataframe.df"
   ]
  },
  {
   "cell_type": "code",
   "execution_count": 3,
   "id": "5e798a33-6051-4272-9740-1bd26304c349",
   "metadata": {},
   "outputs": [],
   "source": [
    "import re\n",
    "def natural_sort(l): \n",
    "    convert = lambda text: int(text) if text.isdigit() else text.lower()\n",
    "    alphanum_key = lambda key: [convert(c) for c in re.split('([0-9]+)', key)]\n",
    "    return sorted(l, key=alphanum_key)"
   ]
  },
  {
   "cell_type": "code",
   "execution_count": 4,
   "id": "d5c48549-7dca-4b28-9549-86cd57110748",
   "metadata": {},
   "outputs": [
    {
     "ename": "IndexError",
     "evalue": "list index out of range",
     "output_type": "error",
     "traceback": [
      "\u001b[0;31m---------------------------------------------------------------------------\u001b[0m",
      "\u001b[0;31mIndexError\u001b[0m                                Traceback (most recent call last)",
      "Cell \u001b[0;32mIn[4], line 15\u001b[0m\n\u001b[1;32m     12\u001b[0m ml \u001b[38;5;241m=\u001b[39m natural_sort(models\u001b[38;5;241m.\u001b[39mdf\u001b[38;5;241m.\u001b[39mmember_id\u001b[38;5;241m.\u001b[39mvalues)\n\u001b[1;32m     14\u001b[0m \u001b[38;5;66;03m# get the first one only then seach again\u001b[39;00m\n\u001b[0;32m---> 15\u001b[0m mem \u001b[38;5;241m=\u001b[39m \u001b[43mml\u001b[49m\u001b[43m[\u001b[49m\u001b[38;5;241;43m0\u001b[39;49m\u001b[43m]\u001b[49m\n\u001b[1;32m     16\u001b[0m model_s \u001b[38;5;241m=\u001b[39m dataframe\u001b[38;5;241m.\u001b[39msearch(experiment_id\u001b[38;5;241m=\u001b[39mexp,\n\u001b[1;32m     17\u001b[0m                           table_id\u001b[38;5;241m=\u001b[39m\u001b[38;5;124m'\u001b[39m\u001b[38;5;124mAmon\u001b[39m\u001b[38;5;124m'\u001b[39m,\n\u001b[1;32m     18\u001b[0m                           variable_id\u001b[38;5;241m=\u001b[39mvar,\n\u001b[0;32m   (...)\u001b[0m\n\u001b[1;32m     21\u001b[0m                           member_id\u001b[38;5;241m=\u001b[39mmem\n\u001b[1;32m     22\u001b[0m                           )      \n",
      "\u001b[0;31mIndexError\u001b[0m: list index out of range"
     ]
    }
   ],
   "source": [
    "sid = 'EC-Earth3'\n",
    "exp = 'historical'\n",
    "var = 'tas'\n",
    "table_id = '6hrPlev'\n",
    "models = dataframe.search(experiment_id=exp,\n",
    "                          table_id=table_id,\n",
    "                          variable_id=var,\n",
    "                          source_id = sid,\n",
    "                          #institution_id=ins,\n",
    "                          #member_id=mem\n",
    "                          ) \n",
    "ml = natural_sort(models.df.member_id.values)\n",
    "\n",
    "# get the first one only then seach again\n",
    "mem = ml[0]\n",
    "model_s = dataframe.search(experiment_id=exp,\n",
    "                          table_id='Amon',\n",
    "                          variable_id=var,\n",
    "                          source_id = sid,\n",
    "                          #institution_id=ins,\n",
    "                          member_id=mem\n",
    "                          )      "
   ]
  },
  {
   "cell_type": "code",
   "execution_count": 13,
   "id": "d6fc286d-18c8-4d5a-8207-c122d3afbe11",
   "metadata": {},
   "outputs": [
    {
     "data": {
      "text/plain": [
       "array(['Amon', '6hrPlev', '3hr', 'day', 'EmonZ', 'E3hr', '6hrPlevPt',\n",
       "       'AERmon', 'LImon', 'CFmon', 'Lmon', 'fx', 'SImon', 'Ofx', 'Omon',\n",
       "       'EdayZ', 'Emon', 'CFday', 'AERday', 'Eday', 'Oyr', 'Eyr', 'Oday',\n",
       "       'SIday', 'AERmonZ', '6hrLev', 'E1hrClimMon', 'CF3hr', 'AERhr',\n",
       "       'Odec', 'Oclim', 'Efx', 'Aclim', 'SIclim', 'IfxGre', 'ImonGre',\n",
       "       'Eclim'], dtype=object)"
      ]
     },
     "execution_count": 13,
     "metadata": {},
     "output_type": "execute_result"
    }
   ],
   "source": [
    "dataframe.df.table_id.unique()"
   ]
  },
  {
   "cell_type": "code",
   "execution_count": 22,
   "id": "3eb6c5f3-71c1-46ab-bdcc-5d594bea722f",
   "metadata": {},
   "outputs": [],
   "source": [
    "x = dataframe.search(table_id='3hr').df"
   ]
  },
  {
   "cell_type": "code",
   "execution_count": 33,
   "id": "62820872-97d9-4d1f-9386-7c02e6f38897",
   "metadata": {},
   "outputs": [
    {
     "name": "stdout",
     "output_type": "stream",
     "text": [
      "ACCESS-CM2\n",
      "['vas' 'uas' 'tas' 'huss']\n",
      "ACCESS-ESM1-5\n",
      "['vas' 'uas' 'tas' 'huss']\n",
      "AWI-CM-1-1-MR\n",
      "['vas' 'uas' 'tas']\n",
      "AWI-ESM-1-1-LR\n",
      "['huss' 'vas' 'uas' 'tas']\n",
      "BCC-CSM2-MR\n",
      "['vas' 'uas' 'tas' 'huss' 'pr' 'rlus' 'rsdsdiff' 'rsus']\n",
      "CMCC-CM2-SR5\n",
      "['uas' 'vas' 'tas' 'huss']\n",
      "CMCC-ESM2\n",
      "['vas' 'uas' 'tas' 'huss']\n",
      "CNRM-CM6-1\n",
      "['huss' 'pr' 'rlus' 'rlds' 'rsds' 'rsus' 'tas' 'ps' 'uas' 'vas' 'rsdsdiff'\n",
      " 'prc']\n",
      "CNRM-CM6-1-HR\n",
      "['prc' 'pr' 'tas' 'vas' 'uas' 'huss']\n",
      "CNRM-ESM2-1\n",
      "['rsds' 'ps' 'pr' 'rsus' 'rlds' 'rlus' 'rsdsdiff' 'vas' 'uas' 'huss' 'tas']\n",
      "CanESM5\n",
      "['rlds' 'vas' 'uas' 'tas' 'rsus' 'rsdsdiff' 'rlus' 'huss' 'rsds' 'ps']\n",
      "EC-Earth3\n",
      "['huss' 'uas' 'tas' 'vas']\n",
      "EC-Earth3-AerChem\n",
      "['vas' 'tas' 'uas' 'huss']\n",
      "EC-Earth3-Veg\n",
      "['tas' 'huss' 'uas' 'vas']\n",
      "EC-Earth3-Veg-LR\n",
      "['huss' 'vas' 'tas' 'uas']\n",
      "GFDL-CM4\n",
      "['uas' 'tslsi' 'tos' 'vas' 'hfls' 'mrro' 'clt' 'mrsos' 'hfss' 'huss'\n",
      " 'rsds' 'rsdscs' 'rsdsdiff' 'prc' 'prsn' 'ps' 'rlds' 'rldscs' 'rlus' 'tas'\n",
      " 'pr' 'rsus' 'rsuscs']\n",
      "GFDL-CM4C192\n",
      "['prsn' 'prc' 'pr' 'huss' 'hfss' 'hfls' 'clt' 'rsdscs' 'rsds' 'rlus'\n",
      " 'rsdsdiff' 'rsus' 'rsuscs' 'tas' 'ps' 'rlds' 'rldscs' 'vas' 'uas' 'tslsi']\n",
      "GFDL-ESM4\n",
      "['tos' 'uas' 'huss' 'vas' 'mrro' 'pr' 'prc' 'prsn' 'ps' 'tas' 'tslsi'\n",
      " 'mrsos']\n",
      "GISS-E2-1-G\n",
      "['rlds' 'vas' 'tas' 'rsus' 'rsdsdiff' 'rsds' 'rlus' 'ps' 'uas' 'huss' 'pr']\n",
      "HadGEM3-GC31-HM\n",
      "['tas' 'prc' 'pr']\n",
      "HadGEM3-GC31-LL\n",
      "['vas' 'uas' 'tas' 'huss']\n",
      "HadGEM3-GC31-LM\n",
      "['tas' 'prc' 'pr']\n",
      "HadGEM3-GC31-MM\n",
      "['prc' 'pr' 'tas' 'huss' 'uas' 'vas']\n",
      "IITM-ESM\n",
      "['tas' 'huss' 'uas' 'vas']\n",
      "IPSL-CM5A2-INCA\n",
      "['vas' 'uas']\n",
      "IPSL-CM6A-ATM-HR\n",
      "['pr' 'vas' 'prc' 'uas']\n",
      "IPSL-CM6A-LR\n",
      "['ps' 'rlds' 'rlus' 'rsds' 'rsus' 'uas' 'vas' 'pr' 'prc']\n",
      "KACE-1-0-G\n",
      "['rsdsdiff' 'tas' 'huss' 'ps' 'rlds' 'rlus' 'rsds' 'uas' 'rsus' 'vas']\n",
      "KIOST-ESM\n",
      "['uas' 'rlus' 'rsus' 'tas' 'vas']\n",
      "MIROC-ES2L\n",
      "['vas' 'uas' 'huss' 'tas']\n",
      "MIROC6\n",
      "['huss' 'tas' 'uas' 'vas']\n",
      "MPI-ESM-1-2-HAM\n",
      "['tas' 'uas' 'vas' 'huss']\n",
      "MPI-ESM1-2-HR\n",
      "['huss' 'tas' 'uas' 'vas']\n",
      "MPI-ESM1-2-LR\n",
      "['vas' 'uas' 'tas' 'huss']\n",
      "MRI-ESM2-0\n",
      "['huss' 'pr' 'tas' 'uas' 'vas']\n",
      "NESM3\n",
      "['vas' 'uas' 'tas']\n",
      "SAM0-UNICON\n",
      "['huss' 'tas']\n",
      "TaiESM1\n",
      "['huss' 'tas']\n",
      "UKESM1-0-LL\n",
      "['tas']\n"
     ]
    }
   ],
   "source": [
    "for g in list(x.groupby('source_id'))[:]:\n",
    "    print(g[0])\n",
    "    y = g[1]\n",
    "    print(y.variable_id.unique())"
   ]
  },
  {
   "cell_type": "code",
   "execution_count": 32,
   "id": "5ccf27f9-676c-4caa-b544-400cda97a975",
   "metadata": {},
   "outputs": [
    {
     "data": {
      "text/plain": [
       "array(['vas', 'uas', 'tas', 'huss'], dtype=object)"
      ]
     },
     "execution_count": 32,
     "metadata": {},
     "output_type": "execute_result"
    }
   ],
   "source": [
    "y.variable_id.unique()"
   ]
  },
  {
   "cell_type": "code",
   "execution_count": 21,
   "id": "63685de7-ea8e-431c-b1a0-f65c423ce91d",
   "metadata": {},
   "outputs": [],
   "source": [
    "x1 = dataframe.search(table_id='6hrLev').df"
   ]
  },
  {
   "cell_type": "code",
   "execution_count": 8,
   "id": "03c1fbf2-0453-4425-985a-9b72eae04744",
   "metadata": {},
   "outputs": [
    {
     "data": {
      "text/plain": [
       "array(['Amon', '6hrPlev', '3hr', 'day', 'EmonZ', 'E3hr', '6hrPlevPt',\n",
       "       'AERmon', 'LImon', 'CFmon', 'Lmon', 'fx', 'SImon', 'Ofx', 'Omon',\n",
       "       'EdayZ', 'Emon', 'CFday', 'AERday', 'Eday', 'Oyr', 'Eyr', 'Oday',\n",
       "       'SIday', 'AERmonZ', '6hrLev', 'E1hrClimMon', 'CF3hr', 'AERhr',\n",
       "       'Odec', 'Oclim', 'Efx', 'Aclim', 'SIclim', 'IfxGre', 'ImonGre',\n",
       "       'Eclim'], dtype=object)"
      ]
     },
     "execution_count": 8,
     "metadata": {},
     "output_type": "execute_result"
    }
   ],
   "source": [
    "df.table_id.unique()"
   ]
  },
  {
   "cell_type": "code",
   "execution_count": null,
   "id": "93778d6c-7b0a-4806-b84c-3b3b39c4fad8",
   "metadata": {},
   "outputs": [
    {
     "name": "stdout",
     "output_type": "stream",
     "text": [
      "tas historical EC-Earth3 73\n",
      "r1i1p1f1\n",
      "Download\n",
      "\n",
      "--> The keys in the returned dictionary of datasets are constructed as follows:\n",
      "\t'activity_id.institution_id.source_id.experiment_id.table_id.grid_label'\n",
      "write to  Download_s8/EC-Earth3/historical/tas_CMIP.EC-Earth-Consortium.EC-Earth3.historical.Amon.gr_r1i1p1f1.nc\n",
      "ta historical EC-Earth3 71\n",
      "r1i1p1f1\n",
      "Download\n",
      "\n",
      "--> The keys in the returned dictionary of datasets are constructed as follows:\n",
      "\t'activity_id.institution_id.source_id.experiment_id.table_id.grid_label'\n",
      "write to  Download_s8/EC-Earth3/historical/ta_CMIP.EC-Earth-Consortium.EC-Earth3.historical.Amon.gr_r1i1p1f1.nc\n",
      "ua historical EC-Earth3 72\n",
      "r1i1p1f1\n",
      "Download\n",
      "\n",
      "--> The keys in the returned dictionary of datasets are constructed as follows:\n",
      "\t'activity_id.institution_id.source_id.experiment_id.table_id.grid_label'\n",
      "write to  Download_s8/EC-Earth3/historical/ua_CMIP.EC-Earth-Consortium.EC-Earth3.historical.Amon.gr_r1i1p1f1.nc\n"
     ]
    }
   ],
   "source": [
    "for sid in [ 'EC-Earth3', 'MIROC6',  'MRI-ESM2-0', 'ACCESS-CM2', 'IPSL-CM6A-LR', 'MPI-ESM1-2-HR'][:1]:\n",
    "    for exp in ['historical','ssp585', 'ssp126', 'ssp370','ssp245'][:]:\n",
    "            for var in ['tas','ta','ua','va','hur','zg','ts'][:]:\n",
    "                # seach all files with information given above\n",
    "                models = dataframe.search(experiment_id=exp,\n",
    "                                          table_id='Amon',\n",
    "                                          variable_id=var,\n",
    "                                          source_id = sid,\n",
    "                                          #institution_id=ins,\n",
    "                                          #member_id=mem\n",
    "                                          )  \n",
    "                # then one might get several files with the same conditions\n",
    "                # r1: Realization (initial condition run)\n",
    "                # i1: Initialization method\n",
    "                # p1: Physical parameters\n",
    "                # f1: External forcings\n",
    "\n",
    "                print(var, exp, sid,  len(models.df))\n",
    "\n",
    "                # if no files exist then print out error\n",
    "                if len(models.df) == 0: print('*** \\n Erorrrr \\n')\n",
    "\n",
    "                # sort the possible files\n",
    "                ml = natural_sort(models.df.member_id.values)\n",
    "\n",
    "                # get the first one only then seach again\n",
    "                mem = ml[0]\n",
    "                model_s = dataframe.search(experiment_id=exp,\n",
    "                                          table_id='Amon',\n",
    "                                          variable_id=var,\n",
    "                                          source_id = sid,\n",
    "                                          #institution_id=ins,\n",
    "                                          member_id=mem\n",
    "                                          )                  \n",
    "\n",
    "                # if no files exist then print out error\n",
    "                if len(model_s.df) == 0: print('*** \\n Erorrrr \\n')\n",
    "\n",
    "                print(mem)\n",
    "\n",
    "                if len(model_s.df) > 0:\n",
    "                    print('Download')\n",
    "                    \n",
    "                    if True:\n",
    "                        \n",
    "                        try:\n",
    "                        \n",
    "                            datasets = model_s.to_dataset_dict(zarr_kwargs={'consolidated': True, \"decode_times\": True, \"use_cftime\": True })\n",
    "                            #datasets = models.to_dataset_dict(xarray_open_kwargs={\"consolidated\": True, \"decode_times\": True, \"use_cftime\": True})\n",
    "                            \n",
    "                            for k, v in datasets.items():\n",
    "                                odir = 'Download_s8/'+sid+'/'+exp+'/'\n",
    "                                if not os.path.exists(odir): os.makedirs(odir)\n",
    "                                ofile = odir + var + '_'+ k + '_'+mem+'.nc'\n",
    "                                print('write to ',ofile)\n",
    "                                v.to_netcdf(ofile)\n",
    "                        except:\n",
    "                            print('fail')\n",
    "                            "
   ]
  }
 ],
 "metadata": {
  "kernelspec": {
   "display_name": "Python 3 (ipykernel)",
   "language": "python",
   "name": "python3"
  },
  "language_info": {
   "codemirror_mode": {
    "name": "ipython",
    "version": 3
   },
   "file_extension": ".py",
   "mimetype": "text/x-python",
   "name": "python",
   "nbconvert_exporter": "python",
   "pygments_lexer": "ipython3",
   "version": "3.11.9"
  }
 },
 "nbformat": 4,
 "nbformat_minor": 5
}
