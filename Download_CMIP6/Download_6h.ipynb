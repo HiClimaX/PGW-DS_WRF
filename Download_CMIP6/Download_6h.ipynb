{
 "cells": [
  {
   "cell_type": "code",
   "execution_count": null,
   "id": "477c4fe5-55bd-4fda-a8f2-7c3874d2d4fa",
   "metadata": {},
   "outputs": [],
   "source": []
  },
  {
   "cell_type": "code",
   "execution_count": 1,
   "id": "c63679b9-8aa5-40ec-af02-1d86452529ae",
   "metadata": {},
   "outputs": [],
   "source": [
    "import intake\n",
    "import os"
   ]
  },
  {
   "cell_type": "code",
   "execution_count": 2,
   "id": "862884b6-92db-4a09-b358-a9f4fb2afae7",
   "metadata": {},
   "outputs": [
    {
     "name": "stderr",
     "output_type": "stream",
     "text": [
      "/Users/doan/anaconda3/envs/intake_esm/lib/python3.12/site-packages/fastprogress/fastprogress.py:107: UserWarning: Couldn't import ipywidgets properly, progress bar will use console behavior\n",
      "  warn(\"Couldn't import ipywidgets properly, progress bar will use console behavior\")\n"
     ]
    }
   ],
   "source": [
    "url = \"https://raw.githubusercontent.com/NCAR/intake-esm-datastore/master/catalogs/pangeo-cmip6.json\"\n",
    "# open the catalog\n",
    "dataframe = intake.open_esm_datastore(url)\n",
    "dataframe.df.columns\n",
    "df = dataframe.df"
   ]
  },
  {
   "cell_type": "code",
   "execution_count": 3,
   "id": "5e798a33-6051-4272-9740-1bd26304c349",
   "metadata": {},
   "outputs": [],
   "source": [
    "import re\n",
    "def natural_sort(l): \n",
    "    convert = lambda text: int(text) if text.isdigit() else text.lower()\n",
    "    alphanum_key = lambda key: [convert(c) for c in re.split('([0-9]+)', key)]\n",
    "    return sorted(l, key=alphanum_key)"
   ]
  },
  {
   "cell_type": "code",
   "execution_count": 11,
   "id": "d5c48549-7dca-4b28-9549-86cd57110748",
   "metadata": {},
   "outputs": [],
   "source": [
    "sid = 'EC-Earth3'\n",
    "exp = 'historical'\n",
    "var = 'tas'\n",
    "table_id = '6hrPlev'\n",
    "models = dataframe.search(experiment_id=exp,\n",
    "                          table_id='Amon',\n",
    "                          variable_id=var,\n",
    "                          source_id = sid,\n",
    "                          #institution_id=ins,\n",
    "                          #member_id=mem\n",
    "                          ) \n",
    "ml = natural_sort(models.df.member_id.values)\n",
    "\n",
    "# get the first one only then seach again\n",
    "mem = ml[0]\n",
    "model_s = dataframe.search(experiment_id=exp,\n",
    "                          table_id='Amon',\n",
    "                          variable_id=var,\n",
    "                          source_id = sid,\n",
    "                          #institution_id=ins,\n",
    "                          member_id=mem\n",
    "                          )      "
   ]
  },
  {
   "cell_type": "code",
   "execution_count": 12,
   "id": "d6fc286d-18c8-4d5a-8207-c122d3afbe11",
   "metadata": {},
   "outputs": [
    {
     "data": {
      "text/html": [
       "<div>\n",
       "<style scoped>\n",
       "    .dataframe tbody tr th:only-of-type {\n",
       "        vertical-align: middle;\n",
       "    }\n",
       "\n",
       "    .dataframe tbody tr th {\n",
       "        vertical-align: top;\n",
       "    }\n",
       "\n",
       "    .dataframe thead th {\n",
       "        text-align: right;\n",
       "    }\n",
       "</style>\n",
       "<table border=\"1\" class=\"dataframe\">\n",
       "  <thead>\n",
       "    <tr style=\"text-align: right;\">\n",
       "      <th></th>\n",
       "      <th>activity_id</th>\n",
       "      <th>institution_id</th>\n",
       "      <th>source_id</th>\n",
       "      <th>experiment_id</th>\n",
       "      <th>member_id</th>\n",
       "      <th>table_id</th>\n",
       "      <th>variable_id</th>\n",
       "      <th>grid_label</th>\n",
       "      <th>zstore</th>\n",
       "      <th>dcpp_init_year</th>\n",
       "      <th>version</th>\n",
       "    </tr>\n",
       "  </thead>\n",
       "  <tbody>\n",
       "    <tr>\n",
       "      <th>0</th>\n",
       "      <td>CMIP</td>\n",
       "      <td>EC-Earth-Consortium</td>\n",
       "      <td>EC-Earth3</td>\n",
       "      <td>historical</td>\n",
       "      <td>r1i1p1f1</td>\n",
       "      <td>Amon</td>\n",
       "      <td>tas</td>\n",
       "      <td>gr</td>\n",
       "      <td>gs://cmip6/CMIP6/CMIP/EC-Earth-Consortium/EC-E...</td>\n",
       "      <td>NaN</td>\n",
       "      <td>20200310</td>\n",
       "    </tr>\n",
       "  </tbody>\n",
       "</table>\n",
       "</div>"
      ],
      "text/plain": [
       "  activity_id       institution_id  source_id experiment_id member_id  \\\n",
       "0        CMIP  EC-Earth-Consortium  EC-Earth3    historical  r1i1p1f1   \n",
       "\n",
       "  table_id variable_id grid_label  \\\n",
       "0     Amon         tas         gr   \n",
       "\n",
       "                                              zstore  dcpp_init_year   version  \n",
       "0  gs://cmip6/CMIP6/CMIP/EC-Earth-Consortium/EC-E...             NaN  20200310  "
      ]
     },
     "execution_count": 12,
     "metadata": {},
     "output_type": "execute_result"
    }
   ],
   "source": [
    "model_s.df"
   ]
  },
  {
   "cell_type": "code",
   "execution_count": 8,
   "id": "03c1fbf2-0453-4425-985a-9b72eae04744",
   "metadata": {},
   "outputs": [
    {
     "data": {
      "text/plain": [
       "array(['Amon', '6hrPlev', '3hr', 'day', 'EmonZ', 'E3hr', '6hrPlevPt',\n",
       "       'AERmon', 'LImon', 'CFmon', 'Lmon', 'fx', 'SImon', 'Ofx', 'Omon',\n",
       "       'EdayZ', 'Emon', 'CFday', 'AERday', 'Eday', 'Oyr', 'Eyr', 'Oday',\n",
       "       'SIday', 'AERmonZ', '6hrLev', 'E1hrClimMon', 'CF3hr', 'AERhr',\n",
       "       'Odec', 'Oclim', 'Efx', 'Aclim', 'SIclim', 'IfxGre', 'ImonGre',\n",
       "       'Eclim'], dtype=object)"
      ]
     },
     "execution_count": 8,
     "metadata": {},
     "output_type": "execute_result"
    }
   ],
   "source": [
    "df.table_id.unique()"
   ]
  },
  {
   "cell_type": "code",
   "execution_count": null,
   "id": "93778d6c-7b0a-4806-b84c-3b3b39c4fad8",
   "metadata": {},
   "outputs": [
    {
     "name": "stdout",
     "output_type": "stream",
     "text": [
      "tas historical EC-Earth3 73\n",
      "r1i1p1f1\n",
      "Download\n",
      "\n",
      "--> The keys in the returned dictionary of datasets are constructed as follows:\n",
      "\t'activity_id.institution_id.source_id.experiment_id.table_id.grid_label'\n",
      "write to  Download_s8/EC-Earth3/historical/tas_CMIP.EC-Earth-Consortium.EC-Earth3.historical.Amon.gr_r1i1p1f1.nc\n",
      "ta historical EC-Earth3 71\n",
      "r1i1p1f1\n",
      "Download\n",
      "\n",
      "--> The keys in the returned dictionary of datasets are constructed as follows:\n",
      "\t'activity_id.institution_id.source_id.experiment_id.table_id.grid_label'\n",
      "write to  Download_s8/EC-Earth3/historical/ta_CMIP.EC-Earth-Consortium.EC-Earth3.historical.Amon.gr_r1i1p1f1.nc\n",
      "ua historical EC-Earth3 72\n",
      "r1i1p1f1\n",
      "Download\n",
      "\n",
      "--> The keys in the returned dictionary of datasets are constructed as follows:\n",
      "\t'activity_id.institution_id.source_id.experiment_id.table_id.grid_label'\n",
      "write to  Download_s8/EC-Earth3/historical/ua_CMIP.EC-Earth-Consortium.EC-Earth3.historical.Amon.gr_r1i1p1f1.nc\n"
     ]
    }
   ],
   "source": [
    "for sid in [ 'EC-Earth3', 'MIROC6',  'MRI-ESM2-0', 'ACCESS-CM2', 'IPSL-CM6A-LR', 'MPI-ESM1-2-HR'][:1]:\n",
    "    for exp in ['historical','ssp585', 'ssp126', 'ssp370','ssp245'][:]:\n",
    "            for var in ['tas','ta','ua','va','hur','zg','ts'][:]:\n",
    "                # seach all files with information given above\n",
    "                models = dataframe.search(experiment_id=exp,\n",
    "                                          table_id='Amon',\n",
    "                                          variable_id=var,\n",
    "                                          source_id = sid,\n",
    "                                          #institution_id=ins,\n",
    "                                          #member_id=mem\n",
    "                                          )  \n",
    "                # then one might get several files with the same conditions\n",
    "                # r1: Realization (initial condition run)\n",
    "                # i1: Initialization method\n",
    "                # p1: Physical parameters\n",
    "                # f1: External forcings\n",
    "\n",
    "                print(var, exp, sid,  len(models.df))\n",
    "\n",
    "                # if no files exist then print out error\n",
    "                if len(models.df) == 0: print('*** \\n Erorrrr \\n')\n",
    "\n",
    "                # sort the possible files\n",
    "                ml = natural_sort(models.df.member_id.values)\n",
    "\n",
    "                # get the first one only then seach again\n",
    "                mem = ml[0]\n",
    "                model_s = dataframe.search(experiment_id=exp,\n",
    "                                          table_id='Amon',\n",
    "                                          variable_id=var,\n",
    "                                          source_id = sid,\n",
    "                                          #institution_id=ins,\n",
    "                                          member_id=mem\n",
    "                                          )                  \n",
    "\n",
    "                # if no files exist then print out error\n",
    "                if len(model_s.df) == 0: print('*** \\n Erorrrr \\n')\n",
    "\n",
    "                print(mem)\n",
    "\n",
    "                if len(model_s.df) > 0:\n",
    "                    print('Download')\n",
    "                    \n",
    "                    if True:\n",
    "                        \n",
    "                        try:\n",
    "                        \n",
    "                            datasets = model_s.to_dataset_dict(zarr_kwargs={'consolidated': True, \"decode_times\": True, \"use_cftime\": True })\n",
    "                            #datasets = models.to_dataset_dict(xarray_open_kwargs={\"consolidated\": True, \"decode_times\": True, \"use_cftime\": True})\n",
    "                            \n",
    "                            for k, v in datasets.items():\n",
    "                                odir = 'Download_s8/'+sid+'/'+exp+'/'\n",
    "                                if not os.path.exists(odir): os.makedirs(odir)\n",
    "                                ofile = odir + var + '_'+ k + '_'+mem+'.nc'\n",
    "                                print('write to ',ofile)\n",
    "                                v.to_netcdf(ofile)\n",
    "                        except:\n",
    "                            print('fail')\n",
    "                            "
   ]
  }
 ],
 "metadata": {
  "kernelspec": {
   "display_name": "Python 3 (ipykernel)",
   "language": "python",
   "name": "python3"
  },
  "language_info": {
   "codemirror_mode": {
    "name": "ipython",
    "version": 3
   },
   "file_extension": ".py",
   "mimetype": "text/x-python",
   "name": "python",
   "nbconvert_exporter": "python",
   "pygments_lexer": "ipython3",
   "version": "3.11.5"
  }
 },
 "nbformat": 4,
 "nbformat_minor": 5
}
