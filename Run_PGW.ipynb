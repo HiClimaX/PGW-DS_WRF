{
 "cells": [
  {
   "cell_type": "markdown",
   "id": "55a82dc5-ada7-45cd-8aa6-37ce1233f87d",
   "metadata": {},
   "source": [
    "### copy all foulder excepts specific files"
   ]
  },
  {
   "cell_type": "code",
   "execution_count": 7,
   "id": "880e5ae8-74d5-4b5b-9db7-9f520e97c1cb",
   "metadata": {},
   "outputs": [],
   "source": [
    "import os, glob, sys\n",
    "import shutil\n",
    "import xarray as xr\n",
    "import subprocess"
   ]
  },
  {
   "cell_type": "code",
   "execution_count": 2,
   "id": "cff44b97-46aa-4ab7-b058-5f2cab80601c",
   "metadata": {},
   "outputs": [],
   "source": [
    "base_dir            = '/Users/doan/Google Drive/My Drive/share/2024/PGW_DS/'\n",
    "run_id              = 'tok_test_dom'\n",
    "src_dir             = base_dir + \"/Run_WRF/control\"\n",
    "dst_dir             = base_dir + \"/Run_WRF/tok_test_dom/PGW_DS\"\n"
   ]
  },
  {
   "cell_type": "code",
   "execution_count": 16,
   "id": "3948f26e-b435-44d8-b800-34fe0d451729",
   "metadata": {},
   "outputs": [
    {
     "data": {
      "text/plain": [
       "'/Users/doan/Google Drive/My Drive/share/2024/PGW_DS//Run_WRF/tok_test_dom/PGW_DS/metgrid'"
      ]
     },
     "execution_count": 16,
     "metadata": {},
     "output_type": "execute_result"
    }
   ],
   "source": [
    "import os\n",
    "import shutil\n",
    "import fnmatch\n",
    "\n",
    "def copy_files_except(src, dst, exclude_patterns):\n",
    "    # Ensure the destination directory exists\n",
    "    if not os.path.exists(dst): os.makedirs(dst)\n",
    "\n",
    "    # Iterate over all items in the source directory\n",
    "    for item in os.listdir(src):\n",
    "        s = os.path.join(src, item)\n",
    "        d = os.path.join(dst, item)\n",
    "\n",
    "        # Check if the file matches any of the exclude patterns\n",
    "        if os.path.isfile(s) and not any(fnmatch.fnmatch(item, pattern) for pattern in exclude_patterns):\n",
    "            shutil.copy2(s, d)\n",
    "\n",
    "# Patterns to exclude (e.g., *.txt files and files starting with 'temp')\n",
    "exclude_patterns = ['met_em*.nc', 'wrfout_*.nc', '*:*']\n",
    "copy_files_except(src_dir, dst_dir, exclude_patterns)\n",
    "\n",
    "shutil.copytree(src_dir+'/metgrid', dst_dir+'/metgrid', dirs_exist_ok=True)\n"
   ]
  },
  {
   "cell_type": "code",
   "execution_count": 10,
   "id": "27063deb-6d96-4ac8-a452-625d9a3c194d",
   "metadata": {},
   "outputs": [],
   "source": [
    "run_dir = dst_dir"
   ]
  },
  {
   "cell_type": "code",
   "execution_count": 18,
   "id": "434a1e62-844e-4e8b-a300-8c6d46d61add",
   "metadata": {},
   "outputs": [],
   "source": [
    "try:\n",
    "    # Run the command in the specified directory\n",
    "    subprocess.run(['./metgrid.exe'], cwd=run_dir, stdout=subprocess.DEVNULL, stderr=subprocess.DEVNULL, check=True)\n",
    "except subprocess.CalledProcessError as e:\n",
    "    print(f\"Error executing metgrid.exe: {e}\")"
   ]
  },
  {
   "cell_type": "code",
   "execution_count": 19,
   "id": "5217c4b4-8cb9-43b0-b1f0-ad83bac86190",
   "metadata": {},
   "outputs": [],
   "source": [
    "try:\n",
    "    subprocess.run(['./real.exe'], cwd=run_dir, stdout=subprocess.DEVNULL, stderr=subprocess.DEVNULL, check=True)\n",
    "except subprocess.CalledProcessError as e:\n",
    "    print(f\"Error executing real.exe: {e}\")"
   ]
  },
  {
   "cell_type": "code",
   "execution_count": null,
   "id": "101b9b55-2c23-4035-ba9b-703c64011ab1",
   "metadata": {},
   "outputs": [],
   "source": [
    "command = ['mpirun', '-np', '4', './wrf.exe']\n",
    "try:\n",
    "    subprocess.run(command, cwd=run_dir, stdout=subprocess.DEVNULL, stderr=subprocess.DEVNULL, check=True)\n",
    "except subprocess.CalledProcessError as e:\n",
    "    print(f\"Error executing wrf.exe: {e}\")"
   ]
  }
 ],
 "metadata": {
  "kernelspec": {
   "display_name": "Python 3 (ipykernel)",
   "language": "python",
   "name": "python3"
  },
  "language_info": {
   "codemirror_mode": {
    "name": "ipython",
    "version": 3
   },
   "file_extension": ".py",
   "mimetype": "text/x-python",
   "name": "python",
   "nbconvert_exporter": "python",
   "pygments_lexer": "ipython3",
   "version": "3.11.5"
  }
 },
 "nbformat": 4,
 "nbformat_minor": 5
}
