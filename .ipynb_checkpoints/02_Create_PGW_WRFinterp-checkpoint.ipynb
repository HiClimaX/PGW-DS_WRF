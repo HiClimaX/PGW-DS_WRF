{
 "cells": [
  {
   "cell_type": "markdown",
   "id": "55a82dc5-ada7-45cd-8aa6-37ce1233f87d",
   "metadata": {},
   "source": [
    "### copy all foulder excepts specific files"
   ]
  },
  {
   "cell_type": "code",
   "execution_count": 9,
   "id": "880e5ae8-74d5-4b5b-9db7-9f520e97c1cb",
   "metadata": {},
   "outputs": [],
   "source": [
    "import os, glob, sys\n",
    "import xarray as xr\n",
    "import pywinter.winter as pyw"
   ]
  },
  {
   "cell_type": "code",
   "execution_count": 10,
   "id": "cff44b97-46aa-4ab7-b058-5f2cab80601c",
   "metadata": {},
   "outputs": [],
   "source": [
    "src_dir = \"control\"\n",
    "dst_dir = 'PGW_gcm'\n",
    "wrf_inter_prefix = 'ERA'"
   ]
  },
  {
   "cell_type": "code",
   "execution_count": 11,
   "id": "c0b40769-aa0b-4d34-ae18-46a939fe51c8",
   "metadata": {},
   "outputs": [],
   "source": [
    "gwi_file = 'output/ssp585.2040-2059_2000-2019.EC-Earth3.nc'\n",
    "dg = xr.open_dataset(gwi_file)\n",
    "ff = sorted(glob.glob(src_dir+'/'+wrf_inter_prefix+'*'))"
   ]
  },
  {
   "cell_type": "markdown",
   "id": "41d049cb-1439-4d2d-9ad1-e5b96a2f5520",
   "metadata": {},
   "source": [
    "## Modify intermediate files using pywinter library\n",
    "\n",
    "    #print(interfile.keys())\n",
    "    #print(interfile['TT'].general)\n",
    "    #print(interfile['TT'].geoinfo)\n",
    "    ##print(interfile['TT'].val)\n",
    "    #print(interfile['TT'].val.shape)"
   ]
  },
  {
   "cell_type": "code",
   "execution_count": null,
   "id": "3948f26e-b435-44d8-b800-34fe0d451729",
   "metadata": {},
   "outputs": [],
   "source": []
  },
  {
   "cell_type": "code",
   "execution_count": null,
   "id": "03833c5d-bb6d-4060-8ff8-ac11d18a085f",
   "metadata": {},
   "outputs": [],
   "source": []
  },
  {
   "cell_type": "code",
   "execution_count": null,
   "id": "27063deb-6d96-4ac8-a452-625d9a3c194d",
   "metadata": {},
   "outputs": [],
   "source": []
  },
  {
   "cell_type": "code",
   "execution_count": 12,
   "id": "1c564b75-3675-4bb2-9510-a661b33e682c",
   "metadata": {
    "tags": []
   },
   "outputs": [
    {
     "name": "stdout",
     "output_type": "stream",
     "text": [
      "control/ERA5A:2023-01-01_00\n",
      "2023-01-01_00\n",
      "*** Add values on:  TT\n",
      "*** Add values on:  GHT\n",
      "*** Add values on:  VV\n",
      "*** Add values on:  UU\n",
      "ERA5A:2023-01-01_00\n",
      "control/ERA5A:2023-01-01_03\n",
      "2023-01-01_03\n",
      "*** Add values on:  TT\n",
      "*** Add values on:  GHT\n",
      "*** Add values on:  VV\n",
      "*** Add values on:  UU\n",
      "ERA5A:2023-01-01_03\n",
      "control/ERA5A:2023-01-01_06\n",
      "2023-01-01_06\n",
      "*** Add values on:  TT\n",
      "*** Add values on:  GHT\n",
      "*** Add values on:  VV\n",
      "*** Add values on:  UU\n",
      "ERA5A:2023-01-01_06\n",
      "control/ERA5A:2023-01-01_09\n",
      "2023-01-01_09\n",
      "*** Add values on:  TT\n",
      "*** Add values on:  GHT\n",
      "*** Add values on:  VV\n",
      "*** Add values on:  UU\n",
      "ERA5A:2023-01-01_09\n",
      "control/ERA5A:2023-01-01_12\n",
      "2023-01-01_12\n",
      "*** Add values on:  TT\n",
      "*** Add values on:  GHT\n",
      "*** Add values on:  VV\n",
      "*** Add values on:  UU\n",
      "ERA5A:2023-01-01_12\n",
      "control/ERA5A:2023-01-01_15\n",
      "2023-01-01_15\n",
      "*** Add values on:  TT\n",
      "*** Add values on:  GHT\n",
      "*** Add values on:  VV\n",
      "*** Add values on:  UU\n",
      "ERA5A:2023-01-01_15\n",
      "control/ERA5A:2023-01-01_18\n",
      "2023-01-01_18\n",
      "*** Add values on:  TT\n",
      "*** Add values on:  GHT\n",
      "*** Add values on:  VV\n",
      "*** Add values on:  UU\n",
      "ERA5A:2023-01-01_18\n",
      "control/ERA5S:2023-01-01_00\n",
      "2023-01-01_00\n",
      "*** Add values on:  SKINTEMP\n",
      "*** Add values on:  SST\n",
      "ERA5S:2023-01-01_00\n",
      "control/ERA5S:2023-01-01_03\n",
      "2023-01-01_03\n",
      "*** Add values on:  SKINTEMP\n",
      "*** Add values on:  SST\n",
      "ERA5S:2023-01-01_03\n",
      "control/ERA5S:2023-01-01_06\n",
      "2023-01-01_06\n",
      "*** Add values on:  SKINTEMP\n",
      "*** Add values on:  SST\n",
      "ERA5S:2023-01-01_06\n",
      "control/ERA5S:2023-01-01_09\n",
      "2023-01-01_09\n",
      "*** Add values on:  SKINTEMP\n",
      "*** Add values on:  SST\n",
      "ERA5S:2023-01-01_09\n",
      "control/ERA5S:2023-01-01_12\n",
      "2023-01-01_12\n",
      "*** Add values on:  SKINTEMP\n",
      "*** Add values on:  SST\n",
      "ERA5S:2023-01-01_12\n",
      "control/ERA5S:2023-01-01_15\n",
      "2023-01-01_15\n",
      "*** Add values on:  SKINTEMP\n",
      "*** Add values on:  SST\n",
      "ERA5S:2023-01-01_15\n",
      "control/ERA5S:2023-01-01_18\n",
      "2023-01-01_18\n",
      "*** Add values on:  SKINTEMP\n",
      "*** Add values on:  SST\n",
      "ERA5S:2023-01-01_18\n"
     ]
    }
   ],
   "source": [
    "\n",
    "for f in ff[:]:\n",
    "    print(f)    \n",
    "    prefix = os.path.basename(f).split(':')[0]\n",
    "    date = f.split(':')[1]\n",
    "    print(date)\n",
    "    imon = int(date.split('-')[1])\n",
    "    \n",
    "    infile = src_dir+'/'+prefix+':' + date\n",
    "    interfile = pyw.rinter(infile)\n",
    "\n",
    "    var = list(interfile.keys())\n",
    "    \n",
    "    x = interfile[var[0]]\n",
    "    slat, slon = x.geoinfo['STARTLAT'], x.geoinfo['STARTLON']\n",
    "    dlat, dlon = x.geoinfo['DELTALAT'], x.geoinfo['DELTALON']\n",
    "    winter_geo = pyw.Geo0(slat,slon,dlat,dlon)\n",
    "\n",
    "    total_fields = []\n",
    "    \n",
    "    for v in var:\n",
    "        x = interfile[v]\n",
    "        # Here to put data on renalysis ***\n",
    "        if v in ['TT', 'UU', 'VV', 'GHT', 'SKINTEMP', 'SST']:\n",
    "            print('*** Add values on: ', v)\n",
    "            gwi_val = dg[v].sel(month = imon).values\n",
    "            values = x.val + gwi_val\n",
    "        \n",
    "        else: values = x.val\n",
    "            \n",
    "        #=======================\n",
    "        # Here to write intermediate\n",
    "        if v in ['SM', 'ST']: # soil variables\n",
    "            sl_layer = x.level\n",
    "            winter = pyw.Vsl(v,values,sl_layer)\n",
    "        elif v in ['RH', 'TT', 'UU', 'VV', 'GHT']: # possible error in future if more 3-D variables exist\n",
    "            winter = pyw.V3dp(v,values,x.level)\n",
    "        else:\n",
    "            winter = pyw.V2d(v,values,x.general['DESC'],x.general['UNITS'], x.general['XLVL'])\n",
    "        total_fields.append(winter)\n",
    "\n",
    "    pyw.cinter(prefix,date, winter_geo, total_fields, dst_dir)\n",
    "    "
   ]
  },
  {
   "cell_type": "code",
   "execution_count": null,
   "id": "aa0874ff-2447-4ffb-9339-2701f4f58334",
   "metadata": {},
   "outputs": [],
   "source": []
  }
 ],
 "metadata": {
  "kernelspec": {
   "display_name": "Python 3 (ipykernel)",
   "language": "python",
   "name": "python3"
  },
  "language_info": {
   "codemirror_mode": {
    "name": "ipython",
    "version": 3
   },
   "file_extension": ".py",
   "mimetype": "text/x-python",
   "name": "python",
   "nbconvert_exporter": "python",
   "pygments_lexer": "ipython3",
   "version": "3.11.5"
  }
 },
 "nbformat": 4,
 "nbformat_minor": 5
}
