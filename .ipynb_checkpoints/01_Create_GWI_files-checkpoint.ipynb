{
 "cells": [
  {
   "cell_type": "markdown",
   "id": "28f9fc9a-9ab9-4211-8ff7-68726727e231",
   "metadata": {},
   "source": [
    "# To create Global Warming Increment (GWI) files from downloaded data"
   ]
  },
  {
   "cell_type": "code",
   "execution_count": null,
   "id": "fc0c58fc",
   "metadata": {},
   "outputs": [],
   "source": []
  },
  {
   "cell_type": "code",
   "execution_count": 6,
   "id": "f508f7a9",
   "metadata": {
    "lines_to_next_cell": 1
   },
   "outputs": [],
   "source": [
    "import xarray as xr\n",
    "import numpy as np\n",
    "import os, glob, sys\n",
    "import datetime\n",
    "import pandas as pd\n"
   ]
  },
  {
   "cell_type": "code",
   "execution_count": 7,
   "id": "df4a634e",
   "metadata": {},
   "outputs": [],
   "source": [
    "def fstr(Base_clim, Futr_clim): \n",
    "    tbs, tbe = Base_clim \n",
    "    tts, tte = Futr_clim       \n",
    "    return str(tts)+'-'+str(tte)+'_'+str(tbs)+'-'+str(tbe)"
   ]
  },
  {
   "cell_type": "code",
   "execution_count": 8,
   "id": "f019e8ba",
   "metadata": {},
   "outputs": [],
   "source": [
    "\n",
    "Base_clim = (1990, 2019)\n",
    "Futr_clim = (2070, 2099)\n",
    "\n",
    "input_dir = 'Download_CMIP6/Download/'\n",
    "g, ssp = 'EC-Earth3', 'ssp585'\n",
    "odir0 = '/Users/doan/Google Drive/My Drive/share/2024/PGW_DS/'\n",
    "output_dir = odir0 + '/GWI/'\n",
    "#exps = ['historical','ssp585','ssp370','ssp245','ssp126']\n",
    "varn = ['ts', 'ta', 'hur', 'ua', 'va', 'zg']"
   ]
  },
  {
   "cell_type": "code",
   "execution_count": null,
   "id": "31ea0679",
   "metadata": {},
   "outputs": [
    {
     "name": "stdout",
     "output_type": "stream",
     "text": [
      "EC-Earth3 ssp585 ts\n",
      "EC-Earth3 ssp585 ta\n",
      "EC-Earth3 ssp585 hur\n"
     ]
    }
   ],
   "source": [
    "for v in varn[:]:\n",
    "    tbs, tbe = Base_clim \n",
    "    tts, tte = Futr_clim   \n",
    "    \n",
    "    odir = output_dir  + '/' +ssp+'/' + g + '/' + fstr(Base_clim, Futr_clim)+'/'\n",
    "    ofile = v+'.nc' \n",
    "    if not os.path.exists(odir): os.makedirs(odir)\n",
    "\n",
    "    hfile = glob.glob(input_dir+ '/'+g+ '/historical/'+v+'_*'+g+'*')[0]\n",
    "    rfile = glob.glob(input_dir+'/'+ g + '/'+ ssp+'/'+v+'_*'+g+'*')[0]\n",
    "\n",
    "    print(g, ssp, v)\n",
    "    \n",
    "    rd = xr.open_dataset(rfile)[v] \n",
    "    hd = xr.open_dataset(hfile)[v] \n",
    "        \n",
    "    hr_base1 = hd.sel(time = slice(str(Base_clim[0]), str(Base_clim[1])))\n",
    "    hr_base2 = rd.sel(time = slice(str(Base_clim[0]), str(Base_clim[1])))\n",
    "    # datetime format\n",
    "    if not type(hr_base2.time.values[0]) == np.datetime64:\n",
    "        xx  = [ datetime.datetime.strptime(str(t),'%Y-%m-%d %H:%M:%S') for t in hr_base2.time.values]\n",
    "        hr_base2.time.values[:] =xx\n",
    "    \n",
    "    hr_base = xr.concat([hr_base1, hr_base2], dim='time')\n",
    "    if hr_base.time.size != (Base_clim[1] - Base_clim[0] + 1)*12: \n",
    "        sys.exit()\n",
    "        print('problem with baseline file')\n",
    "    \n",
    "    hr_targ = rd.sel(time = slice(str(Futr_clim[0]), str(Futr_clim[1])))\n",
    "    \n",
    "    bmean = hr_base.groupby('time.month').mean('time')\n",
    "    tmean = hr_targ.groupby('time.month').mean('time')\n",
    "        \n",
    "    diff = tmean.copy()\n",
    "    diff[:] = tmean.values[:] - bmean.values[:]\n",
    "    \n",
    "    excluded_dims = ['month', 'lat', 'lon', 'plev']\n",
    "    # Identify all the dimensions in the dataset excluding the specified ones\n",
    "    dims_to_select = [dim for dim in diff.dims if dim not in excluded_dims]\n",
    "    # Select the first point along each of these dimensions\n",
    "    selection = {dim: 0 for dim in dims_to_select}\n",
    "   \n",
    "    do = diff.isel(selection)\n",
    "    do.to_netcdf(odir+ofile)\n",
    "              "
   ]
  },
  {
   "cell_type": "code",
   "execution_count": null,
   "id": "803f70ab-3844-43f8-a688-99ef31c5c259",
   "metadata": {},
   "outputs": [],
   "source": []
  }
 ],
 "metadata": {
  "jupytext": {
   "formats": "ipynb,py:percent"
  },
  "kernelspec": {
   "display_name": "Python 3 (ipykernel)",
   "language": "python",
   "name": "python3"
  },
  "language_info": {
   "codemirror_mode": {
    "name": "ipython",
    "version": 3
   },
   "file_extension": ".py",
   "mimetype": "text/x-python",
   "name": "python",
   "nbconvert_exporter": "python",
   "pygments_lexer": "ipython3",
   "version": "3.11.5"
  }
 },
 "nbformat": 4,
 "nbformat_minor": 5
}
