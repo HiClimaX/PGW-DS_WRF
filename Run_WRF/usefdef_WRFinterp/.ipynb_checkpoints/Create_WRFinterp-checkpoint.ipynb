{
 "cells": [
  {
   "cell_type": "markdown",
   "id": "55a82dc5-ada7-45cd-8aa6-37ce1233f87d",
   "metadata": {},
   "source": [
    "# Create WRF intermediate files"
   ]
  },
  {
   "cell_type": "code",
   "execution_count": 95,
   "id": "880e5ae8-74d5-4b5b-9db7-9f520e97c1cb",
   "metadata": {},
   "outputs": [],
   "source": [
    "import os, glob, sys\n",
    "import xarray as xr\n",
    "import pywinter.winter as pyw"
   ]
  },
  {
   "cell_type": "code",
   "execution_count": 96,
   "id": "cff44b97-46aa-4ab7-b058-5f2cab80601c",
   "metadata": {},
   "outputs": [],
   "source": [
    "base_dir            = '/Users/doan/Google Drive/My Drive/share/2024/PGW_DS/'\n",
    "run_id              = 'tok_test_dom'\n",
    "src_dir             = base_dir + \"/Run_WRF/\"+run_id+\"/control\"\n",
    "dst_dir             = base_dir + \"/Run_WRF/\"+run_id+\"/D_DS\"\n",
    "wrf_inter_prefix    = 'ERA'"
   ]
  },
  {
   "cell_type": "code",
   "execution_count": 97,
   "id": "c0b40769-aa0b-4d34-ae18-46a939fe51c8",
   "metadata": {},
   "outputs": [],
   "source": [
    "aa  = '1990-2019_2070-2099'\n",
    "g   = 'EC-Earth3'\n",
    "ssp = 'ssp585'\n",
    "gwi_tdom_dir = base_dir + 'GWI4TDOM/' + run_id + '/'\n",
    "gwi_file = gwi_tdom_dir + '/'+ ssp + '.' + g + '.' + aa + '.nc'\n",
    "dg = xr.open_dataset(gwi_file)\n",
    "ff = sorted(glob.glob(src_dir+'/'+wrf_inter_prefix+'*'))\n"
   ]
  },
  {
   "cell_type": "code",
   "execution_count": 98,
   "id": "e22bc717-cc89-4494-8fa5-fb3641ed0f87",
   "metadata": {},
   "outputs": [
    {
     "data": {
      "text/plain": [
       "'/Users/doan/Google Drive/My Drive/share/2024/PGW_DS//Run_WRF/tok_test_dom/control'"
      ]
     },
     "execution_count": 98,
     "metadata": {},
     "output_type": "execute_result"
    }
   ],
   "source": [
    "src_dir"
   ]
  },
  {
   "cell_type": "markdown",
   "id": "41d049cb-1439-4d2d-9ad1-e5b96a2f5520",
   "metadata": {},
   "source": [
    "## Read intermediate and add GWI on these files using pywinter library\n",
    "\n",
    "    #print(interfile.keys())\n",
    "    #print(interfile['TT'].general)\n",
    "    #print(interfile['TT'].geoinfo)\n",
    "    ##print(interfile['TT'].val)\n",
    "    #print(interfile['TT'].val.shape)"
   ]
  },
  {
   "cell_type": "code",
   "execution_count": 99,
   "id": "24e89357-8df5-46dd-bc81-cba2a1a9d89a",
   "metadata": {},
   "outputs": [],
   "source": [
    "st_date, en_date = \"2023-01-01 00\", \"2023-01-01 18\""
   ]
  },
  {
   "cell_type": "code",
   "execution_count": 100,
   "id": "b70cab72-baac-4156-b704-a896f76f6b8d",
   "metadata": {},
   "outputs": [],
   "source": [
    "import pandas as pd"
   ]
  },
  {
   "cell_type": "code",
   "execution_count": 106,
   "id": "4e6c945f-22ee-4af3-b4f7-3c05138bf387",
   "metadata": {},
   "outputs": [
    {
     "name": "stdout",
     "output_type": "stream",
     "text": [
      "2023-01-01 00:00:00\n",
      "2023-01-01_00\n",
      "PSFC\n",
      "ST\n",
      "SM\n",
      "PMSL\n",
      "SKINTEMP\n",
      "ERA5AS:2023-01-01_00\n",
      "2023-01-01 03:00:00\n",
      "2023-01-01_03\n",
      "PSFC\n",
      "ST\n",
      "SM\n",
      "PMSL\n",
      "SKINTEMP\n",
      "ERA5AS:2023-01-01_03\n",
      "2023-01-01 06:00:00\n",
      "2023-01-01_06\n",
      "PSFC\n",
      "ST\n",
      "SM\n",
      "PMSL\n",
      "SKINTEMP\n",
      "ERA5AS:2023-01-01_06\n"
     ]
    },
    {
     "name": "stderr",
     "output_type": "stream",
     "text": [
      "/var/folders/y7/r3_l1bxn4sv6mkmyfgpt9n880000gn/T/ipykernel_67563/2261275599.py:1: FutureWarning: 'H' is deprecated and will be removed in a future version, please use 'h' instead.\n",
      "  for time in pd.date_range(st_date,en_date, freq='3H')[:3]:\n"
     ]
    }
   ],
   "source": [
    "for time in pd.date_range(st_date,en_date, freq='3H')[:3]:\n",
    "    print(time)\n",
    "    date = time.strftime('%Y-%m-%d_%H')\n",
    "    print(date)\n",
    "    prefix1 = 'ERA5A'\n",
    "    infile = src_dir+'/'+prefix1+':' + date\n",
    "    interfile = pyw.rinter(infile)\n",
    "    infile = src_dir+'/ERA5S:' + date\n",
    "    interfile_s = pyw.rinter(infile)\n",
    "    \n",
    "    var = list(interfile.keys())\n",
    "    \n",
    "    x = interfile[var[0]]\n",
    "    slat, slon = x.geoinfo['STARTLAT'], x.geoinfo['STARTLON']\n",
    "    dlat, dlon = x.geoinfo['DELTALAT'], x.geoinfo['DELTALON']\n",
    "    winter_geo = pyw.Geo0(slat,slon,dlat,dlon)\n",
    "\n",
    "    total_fields = []\n",
    "\n",
    "    for v in var:\n",
    "        x = interfile[v]\n",
    "        values = x.val\n",
    "        winter = pyw.V3dp(v,values,x.level)\n",
    "        total_fields.append(winter)\n",
    "\n",
    "    for v in list(interfile_s.keys()):\n",
    "        \n",
    "        x = interfile_s[v]\n",
    "        values = x.val\n",
    "        \n",
    "        #=======================\n",
    "        # Here to write intermediate\n",
    "        if v in ['SM', 'ST']: # soil variables\n",
    "            sl_layer = x.level\n",
    "            winter = pyw.Vsl(v,values,sl_layer)\n",
    "        elif v in [\n",
    "                   #'PSFC',  # no need (optional)\n",
    "                   #'LANDSEA', # no need (optional)\n",
    "                   #'SNOW', # no need (optional)\n",
    "                   # 'SST', # no need (optional)\n",
    "                    #'SEAICE', # no need (optional)\n",
    "                    'PMSL', \n",
    "                    'SKINTEMP'\n",
    "                  ]:\n",
    "            winter = pyw.V2d(v,values,x.general['DESC'],x.general['UNITS'], x.general['XLVL'])\n",
    "        else: continue\n",
    "        print(v)\n",
    "        total_fields.append(winter)\n",
    "        \n",
    "    pyw.cinter('ERA5AS',date, winter_geo, total_fields, dst_dir)\n",
    "    \n"
   ]
  },
  {
   "cell_type": "code",
   "execution_count": 107,
   "id": "231f819d-3ae9-4c37-afcf-eafe3265d6ca",
   "metadata": {},
   "outputs": [],
   "source": [
    "import subprocess\n",
    "base_dir            = '/Users/doan/Google Drive/My Drive/share/2024/PGW_DS/'\n",
    "run_dir             = base_dir + \"/Run_WRF/tok_test_dom/D_DS\""
   ]
  },
  {
   "cell_type": "code",
   "execution_count": 108,
   "id": "b18988e0-20bb-49bc-8677-11bff6ccf35b",
   "metadata": {},
   "outputs": [],
   "source": [
    "for f in glob.glob(run_dir+\"/wrfout*\"): os.remove(f)\n",
    "for f in glob.glob(run_dir+\"/wrfin*\"): os.remove(f)\n",
    "for f in glob.glob(run_dir+\"/wrfbdy*\"): os.remove(f)\n",
    "for f in glob.glob(run_dir+\"/met_em*\"): os.remove(f)\n",
    "#for f in glob.glob(run_dir+\"/ERA*\"): os.remove(f)"
   ]
  },
  {
   "cell_type": "code",
   "execution_count": 109,
   "id": "942150d8-204a-415e-9765-e57a1d7b22f5",
   "metadata": {},
   "outputs": [
    {
     "name": "stdout",
     "output_type": "stream",
     "text": [
      "Processing domain 1 of 1\n",
      " Processing 2023-01-01_00\n",
      "    ERA5AS\n",
      " Processing 2023-01-01_03\n",
      "    ERA5AS\n",
      " Processing 2023-01-01_06\n",
      "    ERA5AS\n",
      "!!!!!!!!!!!!!!!!!!!!!!!!!!!!!!!!!!!!!!!\n",
      "!  Successful completion of metgrid.  !\n",
      "!!!!!!!!!!!!!!!!!!!!!!!!!!!!!!!!!!!!!!!\n"
     ]
    },
    {
     "name": "stderr",
     "output_type": "stream",
     "text": [
      "Note: The following floating-point exceptions are signalling: IEEE_OVERFLOW_FLAG IEEE_UNDERFLOW_FLAG\n"
     ]
    },
    {
     "data": {
      "text/plain": [
       "CompletedProcess(args=['./metgrid.exe'], returncode=0)"
      ]
     },
     "execution_count": 109,
     "metadata": {},
     "output_type": "execute_result"
    }
   ],
   "source": [
    "subprocess.run(['./metgrid.exe'], cwd=run_dir)"
   ]
  },
  {
   "cell_type": "code",
   "execution_count": 111,
   "id": "0734ac47-8c98-4bca-a145-3e446fb1e10b",
   "metadata": {},
   "outputs": [
    {
     "name": "stderr",
     "output_type": "stream",
     "text": [
      " starting wrf task            0  of            1\n"
     ]
    },
    {
     "data": {
      "text/plain": [
       "CompletedProcess(args=['./real.exe'], returncode=0)"
      ]
     },
     "execution_count": 111,
     "metadata": {},
     "output_type": "execute_result"
    }
   ],
   "source": [
    "subprocess.run(['./real.exe'], cwd=run_dir)"
   ]
  },
  {
   "cell_type": "code",
   "execution_count": 94,
   "id": "aa0874ff-2447-4ffb-9339-2701f4f58334",
   "metadata": {},
   "outputs": [
    {
     "ename": "CalledProcessError",
     "evalue": "Command '['mpirun', '-np', '4', './wrf.exe']' returned non-zero exit status 1.",
     "output_type": "error",
     "traceback": [
      "\u001b[0;31m---------------------------------------------------------------------------\u001b[0m",
      "\u001b[0;31mCalledProcessError\u001b[0m                        Traceback (most recent call last)",
      "Cell \u001b[0;32mIn[94], line 2\u001b[0m\n\u001b[1;32m      1\u001b[0m command \u001b[38;5;241m=\u001b[39m [\u001b[38;5;124m'\u001b[39m\u001b[38;5;124mmpirun\u001b[39m\u001b[38;5;124m'\u001b[39m, \u001b[38;5;124m'\u001b[39m\u001b[38;5;124m-np\u001b[39m\u001b[38;5;124m'\u001b[39m, \u001b[38;5;124m'\u001b[39m\u001b[38;5;124m4\u001b[39m\u001b[38;5;124m'\u001b[39m, \u001b[38;5;124m'\u001b[39m\u001b[38;5;124m./wrf.exe\u001b[39m\u001b[38;5;124m'\u001b[39m]\n\u001b[0;32m----> 2\u001b[0m \u001b[43msubprocess\u001b[49m\u001b[38;5;241;43m.\u001b[39;49m\u001b[43mrun\u001b[49m\u001b[43m(\u001b[49m\u001b[43mcommand\u001b[49m\u001b[43m,\u001b[49m\u001b[43m \u001b[49m\u001b[43mcwd\u001b[49m\u001b[38;5;241;43m=\u001b[39;49m\u001b[43mrun_dir\u001b[49m\u001b[43m,\u001b[49m\u001b[43m \u001b[49m\u001b[43mstdout\u001b[49m\u001b[38;5;241;43m=\u001b[39;49m\u001b[43msubprocess\u001b[49m\u001b[38;5;241;43m.\u001b[39;49m\u001b[43mDEVNULL\u001b[49m\u001b[43m,\u001b[49m\u001b[43m \u001b[49m\u001b[43mstderr\u001b[49m\u001b[38;5;241;43m=\u001b[39;49m\u001b[43msubprocess\u001b[49m\u001b[38;5;241;43m.\u001b[39;49m\u001b[43mDEVNULL\u001b[49m\u001b[43m,\u001b[49m\u001b[43m \u001b[49m\u001b[43mcheck\u001b[49m\u001b[38;5;241;43m=\u001b[39;49m\u001b[38;5;28;43;01mTrue\u001b[39;49;00m\u001b[43m)\u001b[49m\n",
      "File \u001b[0;32m~/anaconda3_2023.09-0/envs/wrf/lib/python3.11/subprocess.py:571\u001b[0m, in \u001b[0;36mrun\u001b[0;34m(input, capture_output, timeout, check, *popenargs, **kwargs)\u001b[0m\n\u001b[1;32m    569\u001b[0m     retcode \u001b[38;5;241m=\u001b[39m process\u001b[38;5;241m.\u001b[39mpoll()\n\u001b[1;32m    570\u001b[0m     \u001b[38;5;28;01mif\u001b[39;00m check \u001b[38;5;129;01mand\u001b[39;00m retcode:\n\u001b[0;32m--> 571\u001b[0m         \u001b[38;5;28;01mraise\u001b[39;00m CalledProcessError(retcode, process\u001b[38;5;241m.\u001b[39margs,\n\u001b[1;32m    572\u001b[0m                                  output\u001b[38;5;241m=\u001b[39mstdout, stderr\u001b[38;5;241m=\u001b[39mstderr)\n\u001b[1;32m    573\u001b[0m \u001b[38;5;28;01mreturn\u001b[39;00m CompletedProcess(process\u001b[38;5;241m.\u001b[39margs, retcode, stdout, stderr)\n",
      "\u001b[0;31mCalledProcessError\u001b[0m: Command '['mpirun', '-np', '4', './wrf.exe']' returned non-zero exit status 1."
     ]
    }
   ],
   "source": [
    "command = ['mpirun', '-np', '4', './wrf.exe']\n",
    "subprocess.run(command, cwd=run_dir, stdout=subprocess.DEVNULL, stderr=subprocess.DEVNULL, check=True)"
   ]
  },
  {
   "cell_type": "code",
   "execution_count": null,
   "id": "9921f0ff-d3c4-4853-85e8-af1edb01f199",
   "metadata": {},
   "outputs": [],
   "source": []
  }
 ],
 "metadata": {
  "kernelspec": {
   "display_name": "Python 3 (ipykernel)",
   "language": "python",
   "name": "python3"
  },
  "language_info": {
   "codemirror_mode": {
    "name": "ipython",
    "version": 3
   },
   "file_extension": ".py",
   "mimetype": "text/x-python",
   "name": "python",
   "nbconvert_exporter": "python",
   "pygments_lexer": "ipython3",
   "version": "3.11.5"
  }
 },
 "nbformat": 4,
 "nbformat_minor": 5
}
