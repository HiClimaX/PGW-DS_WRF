{
 "cells": [
  {
   "cell_type": "markdown",
   "id": "f4e4f950-740b-4562-8181-8070353f84d7",
   "metadata": {},
   "source": [
    "# RUN TEST SIMULATION\n",
    "\n",
    "## Control run\n",
    "\n",
    "* Prepare run directory: wps, wrf\n",
    "\n",
    "* Namelist setting\n",
    "\n",
    "* Run geogrid, ungrib, metgrid, real and wrf\n"
   ]
  },
  {
   "cell_type": "code",
   "execution_count": 1,
   "id": "619c1421-43e7-46d3-b6af-63334eac1ec8",
   "metadata": {
    "tags": []
   },
   "outputs": [],
   "source": [
    "import xarray as xr\n",
    "import pandas as pd\n",
    "import numpy as np\n",
    "import os, sys, glob\n",
    "import subprocess"
   ]
  },
  {
   "cell_type": "markdown",
   "id": "a107819a-0857-4057-bfe9-bcf24f1eee1c",
   "metadata": {},
   "source": [
    "### Preparing run directory\n"
   ]
  },
  {
   "cell_type": "code",
   "execution_count": 2,
   "id": "c9181574-db08-4c1a-a72a-bcc70f258808",
   "metadata": {
    "tags": []
   },
   "outputs": [],
   "source": [
    "wpsdir              = \"/Volumes/work/WRF_program/WRF_install/WPS/\"\n",
    "wrfdir              = \"/Volumes/work/WRF_program/WRF_install/WRF_mpi/\"\n",
    "geogdir             = \"/Volumes/work/WRF_program/WPS_GEOG\"\n",
    "renaldir            = \"/Volumes/work/WRF_program/era5/\"\n",
    "namelist_wps_path   = \"namelist/namelist.wps\"\n",
    "namelist_input_path = \"namelist/namelist.input\"\n",
    "\n",
    "run_id              = 'tok_test_dom'\n",
    "base_dir            = '/Users/doan/Google Drive/My Drive/share/2024/PGW_DS/'\n",
    "run_dir             = base_dir + \"/Run_WRF/\"+run_id+\"control\""
   ]
  },
  {
   "cell_type": "code",
   "execution_count": 3,
   "id": "8ca92e38-6038-444a-9c4e-5d9728976676",
   "metadata": {
    "tags": []
   },
   "outputs": [],
   "source": [
    "st_date, en_date = \"2023-01-01 00\", \"2023-01-01 18\""
   ]
  },
  {
   "cell_type": "code",
   "execution_count": 4,
   "id": "da4a4b17-cef0-47c2-a730-239fd68f2085",
   "metadata": {},
   "outputs": [],
   "source": [
    "src_dir             = base_dir + \"/Run_WRF/\"+  run_id  + \"/control\"\n",
    "dst_dir             = base_dir + \"/Run_WRF/\" + run_id  + \"/D_DS\""
   ]
  },
  {
   "cell_type": "code",
   "execution_count": 5,
   "id": "58b5bbef-b226-403e-8953-64ddfb0ee79f",
   "metadata": {},
   "outputs": [
    {
     "data": {
      "text/plain": [
       "'/Users/doan/Google Drive/My Drive/share/2024/PGW_DS//Run_WRF/tok_test_dom/D_DS/metgrid'"
      ]
     },
     "execution_count": 5,
     "metadata": {},
     "output_type": "execute_result"
    }
   ],
   "source": [
    "import os\n",
    "import shutil\n",
    "import fnmatch\n",
    "\n",
    "def copy_files_except(src, dst, exclude_patterns):\n",
    "    # Ensure the destination directory exists\n",
    "    if not os.path.exists(dst): os.makedirs(dst)\n",
    "\n",
    "    # Iterate over all items in the source directory\n",
    "    for item in os.listdir(src):\n",
    "        s = os.path.join(src, item)\n",
    "        d = os.path.join(dst, item)\n",
    "\n",
    "        # Check if the file matches any of the exclude patterns\n",
    "        if os.path.isfile(s) and not any(fnmatch.fnmatch(item, pattern) for pattern in exclude_patterns):\n",
    "            shutil.copy2(s, d)\n",
    "\n",
    "# Patterns to exclude (e.g., *.txt files and files starting with 'temp')\n",
    "exclude_patterns = ['met_em*.nc', 'wrfout_*.nc', '*:*']\n",
    "copy_files_except(src_dir, dst_dir, exclude_patterns)\n",
    "\n",
    "shutil.copytree(src_dir+'/metgrid', dst_dir+'/metgrid', dirs_exist_ok=True)"
   ]
  },
  {
   "cell_type": "code",
   "execution_count": null,
   "id": "0d56fc57-dfd2-4ae9-9990-c30f026a5f1d",
   "metadata": {},
   "outputs": [],
   "source": []
  }
 ],
 "metadata": {
  "kernelspec": {
   "display_name": "Python 3 (ipykernel)",
   "language": "python",
   "name": "python3"
  },
  "language_info": {
   "codemirror_mode": {
    "name": "ipython",
    "version": 3
   },
   "file_extension": ".py",
   "mimetype": "text/x-python",
   "name": "python",
   "nbconvert_exporter": "python",
   "pygments_lexer": "ipython3",
   "version": "3.11.5"
  }
 },
 "nbformat": 4,
 "nbformat_minor": 5
}
