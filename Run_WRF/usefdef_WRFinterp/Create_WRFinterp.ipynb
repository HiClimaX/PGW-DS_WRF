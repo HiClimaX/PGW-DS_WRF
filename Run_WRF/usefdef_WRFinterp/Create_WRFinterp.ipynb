{
 "cells": [
  {
   "cell_type": "markdown",
   "id": "55a82dc5-ada7-45cd-8aa6-37ce1233f87d",
   "metadata": {},
   "source": [
    "# Create WRF intermediate files"
   ]
  },
  {
   "cell_type": "code",
   "execution_count": 286,
   "id": "880e5ae8-74d5-4b5b-9db7-9f520e97c1cb",
   "metadata": {},
   "outputs": [],
   "source": [
    "import os, glob, sys\n",
    "import xarray as xr\n",
    "import numpy as np\n",
    "import pandas as pd"
   ]
  },
  {
   "cell_type": "code",
   "execution_count": 287,
   "id": "cff44b97-46aa-4ab7-b058-5f2cab80601c",
   "metadata": {},
   "outputs": [],
   "source": [
    "base_dir            = '/Users/doan/Google Drive/My Drive/share/2024/PGW_DS/'\n",
    "run_id              = 'tok_test_dom'\n",
    "src_dir             = base_dir + \"/Run_WRF/\"+run_id+\"/control\"\n",
    "dst_dir             = base_dir + \"/Run_WRF/\"+run_id+\"/D_DS\"\n",
    "wrf_inter_prefix    = 'ERA'"
   ]
  },
  {
   "cell_type": "code",
   "execution_count": 99,
   "id": "24e89357-8df5-46dd-bc81-cba2a1a9d89a",
   "metadata": {},
   "outputs": [],
   "source": [
    "st_date, en_date = \"2023-01-01 00\", \"2023-01-01 18\""
   ]
  },
  {
   "cell_type": "code",
   "execution_count": 100,
   "id": "b70cab72-baac-4156-b704-a896f76f6b8d",
   "metadata": {},
   "outputs": [],
   "source": []
  },
  {
   "cell_type": "code",
   "execution_count": 127,
   "id": "8a08d1b3-3e03-434d-8db0-bab4ea88910b",
   "metadata": {},
   "outputs": [],
   "source": [
    "da = xr.open_dataset('/Volumes/work/WRF_program/era5/era5_ungrib_pressure_levels_20230101.nc')\n",
    "ds = xr.open_dataset('/Volumes/work/WRF_program/era5/era5_ungrib_surface_levels_20230101.nc')"
   ]
  },
  {
   "cell_type": "code",
   "execution_count": 150,
   "id": "b4c25675-0602-4681-b1fc-1385f7e71392",
   "metadata": {},
   "outputs": [],
   "source": [
    "varx      = {'TT':'t', 'UU':'u', 'RH':'r', 'VV':'v', 'GHT':'z'}\n",
    "varx_s    = {'PSFC':'sp', 'PMSL':'msl', 'SKINTEMP':'skt'}\n",
    "varx_soil = {'SM':'swvl', 'ST':'stl'}"
   ]
  },
  {
   "cell_type": "code",
   "execution_count": 261,
   "id": "3d273ad1-f39d-4f29-8936-e54aaf7b3d6e",
   "metadata": {},
   "outputs": [],
   "source": [
    "import pywinter.winter as pyw"
   ]
  },
  {
   "cell_type": "code",
   "execution_count": 279,
   "id": "4e6c945f-22ee-4af3-b4f7-3c05138bf387",
   "metadata": {},
   "outputs": [
    {
     "name": "stdout",
     "output_type": "stream",
     "text": [
      "2023-01-01 00:00:00\n",
      "2023-01-01_00\n",
      "ERA5AS:2023-01-01_00\n",
      "2023-01-01 06:00:00\n",
      "2023-01-01_06\n",
      "ERA5AS:2023-01-01_06\n"
     ]
    }
   ],
   "source": [
    "for time in pd.date_range(st_date,en_date, freq='6h')[:2]:\n",
    "    print(time)\n",
    "    date = time.strftime('%Y-%m-%d_%H')\n",
    "    print(date)\n",
    "    \n",
    "    slat, slon = da.latitude.values[0], da.longitude.values[0]\n",
    "    dlat, dlon = da.latitude.values[1] - da.latitude.values[0], da.longitude.values[1] - da.longitude.values[0]\n",
    "    winter_geo = pyw.Geo0(slat,slon,dlat,dlon)\n",
    "\n",
    "    total_fields = []\n",
    "    \n",
    "    level = da.level.values[::-1]*100\n",
    "    \n",
    "    for v in ['TT', 'UU', 'RH', 'VV', 'GHT']:\n",
    "        values1 = da[varx[v]].sel(time=time)[::-1].values\n",
    "        if v == 'GHT': values1 = values1 / 9.8\n",
    "        winter = pyw.V3dp(v,values1,level)\n",
    "        total_fields.append(winter)\n",
    "\n",
    "    for v in [ 'PSFC', 'PMSL', 'SKINTEMP']:\n",
    "        values1_s = ds[varx_s[v]].sel(time=time).values\n",
    "        winter = pyw.V2d(v,values1_s)\n",
    "        total_fields.append(winter)\n",
    "\n",
    "    \n",
    "    for v in ['SM', 'ST'][:]: # soil variables\n",
    "        values1_so = np.array([ ds[varx_soil[v]+str(i)].sel(time=time).values for i in range(1,5)])\n",
    "        sl_layer = ['000007', '007028', '028100', '100289'] \n",
    "        winter = pyw.Vsl(v,values1_so,sl_layer)\n",
    "        total_fields.append(winter)\n",
    "        \n",
    "    pyw.cinter('ERA5AS',date, winter_geo, total_fields, dst_dir)\n",
    "    "
   ]
  },
  {
   "cell_type": "markdown",
   "id": "946a57a5-59ff-476f-a40f-0e860370f1b4",
   "metadata": {},
   "source": [
    "### Run WRF"
   ]
  },
  {
   "cell_type": "code",
   "execution_count": 281,
   "id": "231f819d-3ae9-4c37-afcf-eafe3265d6ca",
   "metadata": {},
   "outputs": [],
   "source": [
    "import subprocess\n",
    "base_dir            = '/Users/doan/Google Drive/My Drive/share/2024/PGW_DS/'\n",
    "run_dir             = base_dir + \"/Run_WRF/tok_test_dom/D_DS\""
   ]
  },
  {
   "cell_type": "code",
   "execution_count": 282,
   "id": "b18988e0-20bb-49bc-8677-11bff6ccf35b",
   "metadata": {},
   "outputs": [],
   "source": [
    "for f in glob.glob(run_dir+\"/wrfout*\"): os.remove(f)\n",
    "for f in glob.glob(run_dir+\"/wrfin*\"): os.remove(f)\n",
    "for f in glob.glob(run_dir+\"/wrfbdy*\"): os.remove(f)\n",
    "for f in glob.glob(run_dir+\"/met_em*\"): os.remove(f)\n",
    "#for f in glob.glob(run_dir+\"/ERA*\"): os.remove(f)"
   ]
  },
  {
   "cell_type": "code",
   "execution_count": 283,
   "id": "942150d8-204a-415e-9765-e57a1d7b22f5",
   "metadata": {},
   "outputs": [
    {
     "name": "stdout",
     "output_type": "stream",
     "text": [
      "Processing domain 1 of 1\n",
      " Processing 2023-01-01_00\n",
      "    ERA5AS\n",
      " Processing 2023-01-01_06\n",
      "    ERA5AS\n",
      "!!!!!!!!!!!!!!!!!!!!!!!!!!!!!!!!!!!!!!!\n",
      "!  Successful completion of metgrid.  !\n",
      "!!!!!!!!!!!!!!!!!!!!!!!!!!!!!!!!!!!!!!!\n"
     ]
    },
    {
     "name": "stderr",
     "output_type": "stream",
     "text": [
      "Note: The following floating-point exceptions are signalling: IEEE_OVERFLOW_FLAG\n"
     ]
    },
    {
     "data": {
      "text/plain": [
       "CompletedProcess(args=['./metgrid.exe'], returncode=0)"
      ]
     },
     "execution_count": 283,
     "metadata": {},
     "output_type": "execute_result"
    }
   ],
   "source": [
    "subprocess.run(['./metgrid.exe'], cwd=run_dir)"
   ]
  },
  {
   "cell_type": "code",
   "execution_count": 284,
   "id": "0734ac47-8c98-4bca-a145-3e446fb1e10b",
   "metadata": {},
   "outputs": [
    {
     "name": "stderr",
     "output_type": "stream",
     "text": [
      " starting wrf task            0  of            1\n"
     ]
    },
    {
     "data": {
      "text/plain": [
       "CompletedProcess(args=['./real.exe'], returncode=0)"
      ]
     },
     "execution_count": 284,
     "metadata": {},
     "output_type": "execute_result"
    }
   ],
   "source": [
    "subprocess.run(['./real.exe'], cwd=run_dir)"
   ]
  },
  {
   "cell_type": "code",
   "execution_count": 285,
   "id": "aa0874ff-2447-4ffb-9339-2701f4f58334",
   "metadata": {},
   "outputs": [
    {
     "data": {
      "text/plain": [
       "CompletedProcess(args=['mpirun', '-np', '4', './wrf.exe'], returncode=0)"
      ]
     },
     "execution_count": 285,
     "metadata": {},
     "output_type": "execute_result"
    }
   ],
   "source": [
    "command = ['mpirun', '-np', '4', './wrf.exe']\n",
    "subprocess.run(command, cwd=run_dir, stdout=subprocess.DEVNULL, stderr=subprocess.DEVNULL, check=True)"
   ]
  },
  {
   "cell_type": "markdown",
   "id": "2998244c-0d32-45c1-9ee3-2c054306bf1e",
   "metadata": {},
   "source": [
    "### For reference"
   ]
  },
  {
   "cell_type": "code",
   "execution_count": 136,
   "id": "72e71919-49d4-40d3-8f9a-99120c5f8449",
   "metadata": {},
   "outputs": [
    {
     "name": "stdout",
     "output_type": "stream",
     "text": [
      "2023-01-01 00:00:00\n",
      "2023-01-01_00\n",
      "292.818115234375\n",
      "93.95826721191406\n",
      "105.40580749511719\n",
      "18.516143798828125\n",
      "47485.171875\n",
      "PSFC\n",
      "ST\n",
      "SM\n",
      "PMSL\n",
      "SKINTEMP\n",
      "ERA5AS:2023-01-01_00\n",
      "2023-01-01 03:00:00\n",
      "2023-01-01_03\n",
      "293.077392578125\n",
      "92.86693572998047\n",
      "101.76820373535156\n",
      "16.394668579101562\n",
      "47521.9296875\n",
      "PSFC\n",
      "ST\n",
      "SM\n",
      "PMSL\n",
      "SKINTEMP\n",
      "ERA5AS:2023-01-01_03\n",
      "2023-01-01 06:00:00\n",
      "2023-01-01_06\n",
      "293.684326171875\n",
      "92.63107299804688\n",
      "103.9903793334961\n",
      "20.416107177734375\n",
      "47598.84375\n",
      "PSFC\n",
      "ST\n",
      "SM\n",
      "PMSL\n",
      "SKINTEMP\n",
      "ERA5AS:2023-01-01_06\n"
     ]
    },
    {
     "name": "stderr",
     "output_type": "stream",
     "text": [
      "/var/folders/y7/r3_l1bxn4sv6mkmyfgpt9n880000gn/T/ipykernel_67563/316169199.py:1: FutureWarning: 'H' is deprecated and will be removed in a future version, please use 'h' instead.\n",
      "  for time in pd.date_range(st_date,en_date, freq='3H')[:3]:\n"
     ]
    }
   ],
   "source": [
    "import pywinter.winter as pyw\n",
    "for time in pd.date_range(st_date,en_date, freq='3H')[:3]:\n",
    "    print(time)\n",
    "    date = time.strftime('%Y-%m-%d_%H')\n",
    "    print(date)\n",
    "    prefix1 = 'ERA5A'\n",
    "    infile = src_dir+'/'+prefix1+':' + date\n",
    "    interfile = pyw.rinter(infile)\n",
    "    infile = src_dir+'/ERA5S:' + date\n",
    "    interfile_s = pyw.rinter(infile)\n",
    "    \n",
    "    var = list(interfile.keys())\n",
    "    \n",
    "    x = interfile[var[0]]\n",
    "    slat, slon = x.geoinfo['STARTLAT'], x.geoinfo['STARTLON']\n",
    "    dlat, dlon = x.geoinfo['DELTALAT'], x.geoinfo['DELTALON']\n",
    "    \n",
    "    winter_geo = pyw.Geo0(slat,slon,dlat,dlon)\n",
    "\n",
    "    total_fields = []\n",
    "\n",
    "    for v in var:\n",
    "        x = interfile[v]\n",
    "        values = x.val\n",
    "        winter = pyw.V3dp(v,values,x.level)\n",
    "        total_fields.append(winter)\n",
    "        print(values.max())\n",
    "\n",
    "    for v in list(interfile_s.keys()):\n",
    "        \n",
    "        x = interfile_s[v]\n",
    "        values = x.val\n",
    "        \n",
    "        #=======================\n",
    "        # Here to write intermediate\n",
    "        if v in ['SM', 'ST']: # soil variables\n",
    "            sl_layer = x.level\n",
    "            winter = pyw.Vsl(v,values,sl_layer)\n",
    "        elif v in [\n",
    "                   'PSFC', \n",
    "                   #'LANDSEA', # no need (optional)\n",
    "                   #'SNOW', # no need (optional)\n",
    "                   # 'SST', # no need (optional)\n",
    "                    #'SEAICE', # no need (optional)\n",
    "                    'PMSL', \n",
    "                    'SKINTEMP'\n",
    "                  ]:\n",
    "            winter = pyw.V2d(v,values,x.general['DESC'],x.general['UNITS'], x.general['XLVL'])\n",
    "        else: continue\n",
    "        print(v)\n",
    "        total_fields.append(winter)\n",
    "        \n",
    "    pyw.cinter('ERA5AS',date, winter_geo, total_fields, dst_dir)\n",
    "    \n"
   ]
  }
 ],
 "metadata": {
  "kernelspec": {
   "display_name": "Python 3 (ipykernel)",
   "language": "python",
   "name": "python3"
  },
  "language_info": {
   "codemirror_mode": {
    "name": "ipython",
    "version": 3
   },
   "file_extension": ".py",
   "mimetype": "text/x-python",
   "name": "python",
   "nbconvert_exporter": "python",
   "pygments_lexer": "ipython3",
   "version": "3.11.5"
  }
 },
 "nbformat": 4,
 "nbformat_minor": 5
}
