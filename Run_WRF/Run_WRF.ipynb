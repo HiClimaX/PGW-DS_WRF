{
 "cells": [
  {
   "cell_type": "markdown",
   "id": "0",
   "metadata": {},
   "source": [
    "# RUN TEST SIMULATION\n",
    "\n",
    "## Control run\n",
    "\n",
    "* Prepare run directory: wps, wrf\n",
    "\n",
    "* Namelist setting\n",
    "\n",
    "* Run geogrid, ungrib, metgrid, real and wrf\n"
   ]
  },
  {
   "cell_type": "code",
   "execution_count": null,
   "id": "1",
   "metadata": {
    "tags": []
   },
   "outputs": [],
   "source": [
    "import xarray as xr\n",
    "import pandas as pd\n",
    "import numpy as np\n",
    "import os, sys, glob\n",
    "import subprocess"
   ]
  },
  {
   "cell_type": "markdown",
   "id": "2",
   "metadata": {},
   "source": [
    "### Preparing run directory\n",
    "\n",
    "Please fix the directory or file path.\n",
    "\n",
    "You need to prepare WPS_GEOG data and atmospheric input data."
   ]
  },
  {
   "cell_type": "code",
   "execution_count": null,
   "id": "3",
   "metadata": {
    "tags": []
   },
   "outputs": [],
   "source": [
    "wpsdir              = \"/Volumes/work/WRF_program/WRF_install/WPS/\"\n",
    "wrfdir              = \"/Volumes/work/WRF_program/WRF_install/WRF_mpi/\"\n",
    "geogdir             = \"/Volumes/work/WRF_program/WPS_GEOG\"\n",
    "renaldir            = \"/Volumes/work/WRF_program/era5/\"\n",
    "namelist_wps_path   = \"namelist/namelist.wps\"\n",
    "namelist_input_path = \"namelist/namelist.input\"\n",
    "\n",
    "run_id              = 'tok_test_dom'\n",
    "base_dir            = '/Users/doan/Google Drive/My Drive/share/2024/PGW_DS/'\n",
    "run_dir             = base_dir + \"/Run_WRF/\"+run_id+\"/control\""
   ]
  },
  {
   "cell_type": "code",
   "execution_count": null,
   "id": "4",
   "metadata": {
    "tags": []
   },
   "outputs": [],
   "source": [
    "st_date, en_date = \"2023-01-01 00\", \"2023-01-01 18\""
   ]
  },
  {
   "cell_type": "markdown",
   "id": "5",
   "metadata": {},
   "source": [
    "### Copy WPS program"
   ]
  },
  {
   "cell_type": "code",
   "execution_count": null,
   "id": "6",
   "metadata": {
    "tags": []
   },
   "outputs": [],
   "source": [
    "import shutil\n",
    "for idir in ['geogrid', 'ungrib', 'metgrid']: \n",
    "    # Copy the directory tree, allowing existing destination directory\n",
    "    shutil.copytree(wpsdir+'/'+idir, run_dir+'/'+idir, dirs_exist_ok=True)\n",
    "    shutil.copy2(wpsdir+'/'+idir+'.exe', run_dir+'/'+idir+'.exe')    \n",
    "shutil.copy2(wpsdir+'/link_grib.csh', run_dir)"
   ]
  },
  {
   "cell_type": "markdown",
   "id": "7",
   "metadata": {},
   "source": [
    "## modify name list\n"
   ]
  },
  {
   "cell_type": "code",
   "execution_count": null,
   "id": "8",
   "metadata": {
    "tags": []
   },
   "outputs": [],
   "source": [
    "import re\n",
    "def modify_namelist(namelist_path_in, namelist_path_out, aa):\n",
    "    with open(namelist_path_in, 'r') as file:\n",
    "        lines = file.readlines()\n",
    "\n",
    "    for i, line in enumerate(lines):\n",
    "        for k, v in aa.items():\n",
    "            parameter_pattern = re.compile(rf'^\\s*{k}\\s*=\\s*')\n",
    "            if parameter_pattern.match(line):\n",
    "                lines[i] = f' {k} = {v},\\n'\n",
    "\n",
    "    with open(namelist_path_out, 'w') as file:\n",
    "        file.writelines(lines)"
   ]
  },
  {
   "cell_type": "code",
   "execution_count": null,
   "id": "9",
   "metadata": {
    "tags": []
   },
   "outputs": [],
   "source": [
    "namelist_path_in = namelist_wps_path\n",
    "namelist_path_out = run_dir+'/namelist.wps'\n",
    "aa = {'geog_data_path': '\"'+geogdir+'\"' }\n",
    "\n",
    "modify_namelist(namelist_path_in, namelist_path_out, aa)\n"
   ]
  },
  {
   "cell_type": "markdown",
   "id": "10",
   "metadata": {},
   "source": [
    "### Run geogrid.exe"
   ]
  },
  {
   "cell_type": "code",
   "execution_count": null,
   "id": "11",
   "metadata": {},
   "outputs": [],
   "source": [
    "subprocess.run(['./geogrid.exe'], cwd=run_dir, stdout=subprocess.DEVNULL, stderr=subprocess.DEVNULL, check=True)"
   ]
  },
  {
   "cell_type": "markdown",
   "id": "12",
   "metadata": {},
   "source": [
    "### Run ungrib"
   ]
  },
  {
   "cell_type": "code",
   "execution_count": null,
   "id": "13",
   "metadata": {},
   "outputs": [],
   "source": [
    "source_file = os.path.join(run_dir, 'ungrib/Variable_Tables/Vtable.ECMWF')\n",
    "target_link = os.path.join(run_dir, 'Vtable')\n",
    "original_dir = os.getcwd()\n",
    "os.chdir(run_dir)\n",
    "if os.path.islink(target_link) or os.path.exists(target_link): os.remove(target_link)\n",
    "os.symlink(source_file, target_link) # link\n",
    "os.chdir(original_dir)"
   ]
  },
  {
   "cell_type": "code",
   "execution_count": null,
   "id": "14",
   "metadata": {},
   "outputs": [],
   "source": [
    "namelist_wps = run_dir + '/namelist.wps'\n",
    "prefixes = ['ERA5A', 'ERA5S']\n",
    "for i in range(2):\n",
    "    prefix = prefixes[i]\n",
    "    # Define the appropriate reanalysis file based on 'pressure' or 'surface' level\n",
    "    reanal_files = renaldir + 'era5_ungrib_' + ['pressure', 'surface'][i] + '_levels_20230101.grib'\n",
    "    \n",
    "    subprocess.run(['./link_grib.csh', reanal_files], cwd=run_dir, check=True)\n",
    "    subprocess.run(['rm', '-f'] + glob.glob(os.path.join(run_dir, prefix+'*')), check=True)\n",
    "\n",
    "    modify_namelist(namelist_wps, namelist_wps, {'prefix': f'\"{prefix}\"'})\n",
    "    subprocess.run(['./ungrib.exe'], cwd=run_dir, stdout=subprocess.DEVNULL, stderr=subprocess.DEVNULL, check=True)"
   ]
  },
  {
   "cell_type": "code",
   "execution_count": null,
   "id": "15",
   "metadata": {
    "tags": []
   },
   "outputs": [],
   "source": [
    "#os.system('cd '+run_dir+';ln -sf ungrib/Variable_Tables/Vtable.ECMWF Vtable')"
   ]
  },
  {
   "cell_type": "markdown",
   "id": "16",
   "metadata": {},
   "source": [
    "### Run metgrid"
   ]
  },
  {
   "cell_type": "code",
   "execution_count": null,
   "id": "17",
   "metadata": {
    "tags": []
   },
   "outputs": [],
   "source": [
    "fg_name = '\"'+'\",\"'.join(prefixes)+'\"'\n",
    "modify_namelist(namelist_wps, namelist_wps, { 'fg_name'  : fg_name} )"
   ]
  },
  {
   "cell_type": "code",
   "execution_count": null,
   "id": "18",
   "metadata": {},
   "outputs": [],
   "source": [
    "subprocess.run(['./metgrid.exe'], cwd=run_dir, stdout=subprocess.DEVNULL, stderr=subprocess.DEVNULL, check=True)"
   ]
  },
  {
   "cell_type": "code",
   "execution_count": null,
   "id": "19",
   "metadata": {
    "tags": []
   },
   "outputs": [],
   "source": [
    "#os.system('cd '+run_dir+'; ./metgrid.exe  > NUL 2>&1; cd -')"
   ]
  },
  {
   "cell_type": "markdown",
   "id": "20",
   "metadata": {},
   "source": [
    "## Copy WRF run files"
   ]
  },
  {
   "cell_type": "code",
   "execution_count": null,
   "id": "21",
   "metadata": {},
   "outputs": [],
   "source": [
    "source_dir = os.path.join(wrfdir, 'run')\n",
    "destination_dir = run_dir\n",
    "\n",
    "for file_name in os.listdir(source_dir):\n",
    "    full_file_name = os.path.join(source_dir, file_name)    \n",
    "    if os.path.isfile(full_file_name):\n",
    "        shutil.copy(full_file_name, destination_dir)"
   ]
  },
  {
   "cell_type": "markdown",
   "id": "22",
   "metadata": {},
   "source": [
    "### Copy namelist to destination"
   ]
  },
  {
   "cell_type": "code",
   "execution_count": null,
   "id": "23",
   "metadata": {
    "tags": []
   },
   "outputs": [],
   "source": [
    "with open(namelist_input_path, 'r') as file: a1 = file.readlines()\n",
    "with open(run_dir+'/namelist.input', 'w') as file: file.writelines(a1)"
   ]
  },
  {
   "cell_type": "code",
   "execution_count": null,
   "id": "24",
   "metadata": {},
   "outputs": [],
   "source": [
    "subprocess.run(['./real.exe'], cwd=run_dir, stdout=subprocess.DEVNULL, stderr=subprocess.DEVNULL, check=True)"
   ]
  },
  {
   "cell_type": "code",
   "execution_count": null,
   "id": "25",
   "metadata": {},
   "outputs": [],
   "source": [
    "command = ['mpirun', '-np', '4', './wrf.exe']\n",
    "subprocess.run(command, cwd=run_dir, stdout=subprocess.DEVNULL, stderr=subprocess.DEVNULL, check=True)"
   ]
  },
  {
   "cell_type": "markdown",
   "id": "26",
   "metadata": {},
   "source": [
    "\n",
    "## Copy all directory to PGW\n",
    "\n",
    "\n",
    "\n",
    "\n"
   ]
  },
  {
   "cell_type": "code",
   "execution_count": null,
   "id": "27",
   "metadata": {},
   "outputs": [],
   "source": [
    "src_dir             = base_dir + \"/Run_WRF/\"+  run_id  + \"/control\"\n",
    "dst_dir             = base_dir + \"/Run_WRF/\" + run_id  + \"/PGW_DS\""
   ]
  },
  {
   "cell_type": "code",
   "execution_count": null,
   "id": "28",
   "metadata": {},
   "outputs": [],
   "source": [
    "import os\n",
    "import shutil\n",
    "import fnmatch\n",
    "\n",
    "def copy_files_except(src, dst, exclude_patterns):\n",
    "    # Ensure the destination directory exists\n",
    "    if not os.path.exists(dst): os.makedirs(dst)\n",
    "\n",
    "    # Iterate over all items in the source directory\n",
    "    for item in os.listdir(src):\n",
    "        s = os.path.join(src, item)\n",
    "        d = os.path.join(dst, item)\n",
    "\n",
    "        # Check if the file matches any of the exclude patterns\n",
    "        if os.path.isfile(s) and not any(fnmatch.fnmatch(item, pattern) for pattern in exclude_patterns):\n",
    "            shutil.copy2(s, d)\n",
    "\n",
    "# Patterns to exclude (e.g., *.txt files and files starting with 'temp')\n",
    "exclude_patterns = ['met_em*.nc', 'wrfout_*.nc', '*:*']\n",
    "copy_files_except(src_dir, dst_dir, exclude_patterns)\n",
    "\n",
    "shutil.copytree(src_dir+'/metgrid', dst_dir+'/metgrid', dirs_exist_ok=True)"
   ]
  }
 ],
 "metadata": {
  "kernelspec": {
   "display_name": "wrf_processing",
   "language": "python",
   "name": "python3"
  },
  "language_info": {
   "codemirror_mode": {
    "name": "ipython",
    "version": 3
   },
   "file_extension": ".py",
   "mimetype": "text/x-python",
   "name": "python",
   "nbconvert_exporter": "python",
   "pygments_lexer": "ipython3",
   "version": "3.10.13"
  }
 },
 "nbformat": 4,
 "nbformat_minor": 5
}
