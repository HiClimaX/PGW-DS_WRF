{
 "cells": [
  {
   "cell_type": "markdown",
   "id": "f4e4f950-740b-4562-8181-8070353f84d7",
   "metadata": {},
   "source": [
    "# RUN TEST SIMULATION\n",
    "\n",
    "## Control run\n",
    "\n",
    "* Prepare run directory: wps, wrf\n",
    "\n",
    "* Namelist setting\n",
    "\n",
    "* Run geogrid, ungrib, metgrid, real and wrf\n"
   ]
  },
  {
   "cell_type": "code",
   "execution_count": 1,
   "id": "619c1421-43e7-46d3-b6af-63334eac1ec8",
   "metadata": {
    "tags": []
   },
   "outputs": [],
   "source": [
    "import xarray as xr\n",
    "import pandas as pd\n",
    "import numpy as np\n",
    "import os, sys, glob\n",
    "import subprocess"
   ]
  },
  {
   "cell_type": "markdown",
   "id": "a107819a-0857-4057-bfe9-bcf24f1eee1c",
   "metadata": {},
   "source": [
    "### Preparing run directory\n"
   ]
  },
  {
   "cell_type": "code",
   "execution_count": 49,
   "id": "c9181574-db08-4c1a-a72a-bcc70f258808",
   "metadata": {
    "tags": []
   },
   "outputs": [],
   "source": [
    "wpsdir              = \"/Volumes/work/WRF_program/WRF_install/WPS/\"\n",
    "wrfdir              = \"/Volumes/work/WRF_program/WRF_install/WRF_mpi/\"\n",
    "geogdir             = \"/Volumes/work/WRF_program/WPS_GEOG\"\n",
    "renaldir            = \"/Volumes/work/WRF_program/era5/\"\n",
    "namelist_wps_path   = \"namelist/namelist.wps\"\n",
    "namelist_input_path = \"namelist/namelist.input\"\n",
    "\n",
    "run_id              = 'tok_test_dom'\n",
    "base_dir            = '/Users/doan/Google Drive/My Drive/share/2024/PGW_DS/'\n",
    "run_dir             = base_dir + \"/Run_WRF/\"+run_id+\"control\""
   ]
  },
  {
   "cell_type": "code",
   "execution_count": null,
   "id": "eb9b224c-7d55-4c5d-9967-949e88cb52a3",
   "metadata": {},
   "outputs": [],
   "source": []
  },
  {
   "cell_type": "code",
   "execution_count": 4,
   "id": "8ca92e38-6038-444a-9c4e-5d9728976676",
   "metadata": {
    "tags": []
   },
   "outputs": [],
   "source": [
    "st_date, en_date = \"2023-01-01 00\", \"2023-01-01 18\""
   ]
  },
  {
   "cell_type": "markdown",
   "id": "0f0dfa6c-6586-422a-ae91-92174589794b",
   "metadata": {},
   "source": [
    "### Copy WPS program"
   ]
  },
  {
   "cell_type": "code",
   "execution_count": 5,
   "id": "584b3b3f-7b22-48f0-bffa-fa022a745d7f",
   "metadata": {
    "tags": []
   },
   "outputs": [
    {
     "data": {
      "text/plain": [
       "'/Users/doan/Google Drive/My Drive/share/2024/PGW_DS//Run_WRF/control/link_grib.csh'"
      ]
     },
     "execution_count": 5,
     "metadata": {},
     "output_type": "execute_result"
    }
   ],
   "source": [
    "import shutil\n",
    "for idir in ['geogrid', 'ungrib', 'metgrid']: \n",
    "    # Copy the directory tree, allowing existing destination directory\n",
    "    shutil.copytree(wpsdir+'/'+idir, run_dir+'/'+idir, dirs_exist_ok=True)\n",
    "    shutil.copy2(wpsdir+'/'+idir+'.exe', run_dir+'/'+idir+'.exe')    \n",
    "shutil.copy2(wpsdir+'/link_grib.csh', run_dir)"
   ]
  },
  {
   "cell_type": "markdown",
   "id": "73dda941-dc77-4d52-b1de-5ac7c3da3e56",
   "metadata": {},
   "source": [
    "## modify name list\n"
   ]
  },
  {
   "cell_type": "code",
   "execution_count": 6,
   "id": "47a370d7-2a64-4b02-bdb0-166249e1b5fd",
   "metadata": {
    "tags": []
   },
   "outputs": [],
   "source": [
    "import re\n",
    "def modify_namelist(namelist_path_in, namelist_path_out, aa):\n",
    "    with open(namelist_path_in, 'r') as file:\n",
    "        lines = file.readlines()\n",
    "\n",
    "    for i, line in enumerate(lines):\n",
    "        for k, v in aa.items():\n",
    "            parameter_pattern = re.compile(rf'^\\s*{k}\\s*=\\s*')\n",
    "            if parameter_pattern.match(line):\n",
    "                lines[i] = f' {k} = {v},\\n'\n",
    "\n",
    "    with open(namelist_path_out, 'w') as file:\n",
    "        file.writelines(lines)"
   ]
  },
  {
   "cell_type": "code",
   "execution_count": 7,
   "id": "08d3fb81-2a36-4350-a2aa-5d7d9340866f",
   "metadata": {
    "tags": []
   },
   "outputs": [],
   "source": [
    "namelist_path_in = namelist_wps_path\n",
    "namelist_path_out = run_dir+'/namelist.wps'\n",
    "aa = {'geog_data_path': '\"'+geogdir+'\"' }\n",
    "\n",
    "modify_namelist(namelist_path_in, namelist_path_out, aa)\n"
   ]
  },
  {
   "cell_type": "markdown",
   "id": "50e75cdd-1f22-417b-bf27-f18a14a19377",
   "metadata": {},
   "source": [
    "### Run geogrid.exe"
   ]
  },
  {
   "cell_type": "code",
   "execution_count": null,
   "id": "c332f92d-adec-4860-afc8-5b6c2f62c12a",
   "metadata": {},
   "outputs": [],
   "source": [
    "subprocess.run(['./geogrid.exe'], cwd=run_dir, stdout=subprocess.DEVNULL, stderr=subprocess.DEVNULL, check=True)"
   ]
  },
  {
   "cell_type": "markdown",
   "id": "39cce829-4634-4384-bf98-336c20e35ffc",
   "metadata": {},
   "source": [
    "### Run ungrib"
   ]
  },
  {
   "cell_type": "code",
   "execution_count": 13,
   "id": "8a3f058b-13a3-4c81-b291-cb5b27f4117c",
   "metadata": {},
   "outputs": [
    {
     "name": "stdout",
     "output_type": "stream",
     "text": [
      "Symbolic link created from /Users/doan/Google Drive/My Drive/share/2024/PGW_DS//Run_WRF/control/ungrib/Variable_Tables/Vtable.ECMWF to /Users/doan/Google Drive/My Drive/share/2024/PGW_DS//Run_WRF/control/Vtable\n",
      "Moved back to the original directory: /Users/doan/Documents/GitHub/Pseudo-Global-Warming-Downscaling\n"
     ]
    }
   ],
   "source": [
    "source_file = os.path.join(run_dir, 'ungrib/Variable_Tables/Vtable.ECMWF')\n",
    "target_link = os.path.join(run_dir, 'Vtable')\n",
    "original_dir = os.getcwd()\n",
    "os.chdir(run_dir)\n",
    "if os.path.islink(target_link) or os.path.exists(target_link): os.remove(target_link)\n",
    "os.symlink(source_file, target_link) # link\n",
    "os.chdir(original_dir)"
   ]
  },
  {
   "cell_type": "code",
   "execution_count": 42,
   "id": "01f9af72-f23c-4bed-b241-a9de06901ea9",
   "metadata": {},
   "outputs": [],
   "source": [
    "namelist_wps = run_dir + '/namelist.wps'\n",
    "prefixes = ['ERA5A', 'ERA5S']\n",
    "for i in range(2):\n",
    "    prefix = prefixes[i]\n",
    "    # Define the appropriate reanalysis file based on 'pressure' or 'surface' level\n",
    "    reanal_files = renaldir + 'era5_ungrib_' + ['pressure', 'surface'][i] + '_levels_20230101.grib'\n",
    "    \n",
    "    subprocess.run(['./link_grib.csh', reanal_files], cwd=run_dir, check=True)\n",
    "    subprocess.run(['rm', '-f'] + glob.glob(os.path.join(run_dir, prefix+'*')), check=True)\n",
    "\n",
    "    modify_namelist(namelist_wps, namelist_wps, {'prefix': f'\"{prefix}\"'})\n",
    "    subprocess.run(['./ungrib.exe'], cwd=run_dir, stdout=subprocess.DEVNULL, stderr=subprocess.DEVNULL, check=True)"
   ]
  },
  {
   "cell_type": "code",
   "execution_count": 29,
   "id": "24984e24-6be0-4665-aa91-b27cf4080c45",
   "metadata": {
    "tags": []
   },
   "outputs": [
    {
     "data": {
      "text/plain": [
       "0"
      ]
     },
     "execution_count": 29,
     "metadata": {},
     "output_type": "execute_result"
    }
   ],
   "source": [
    "#os.system('cd '+run_dir+';ln -sf ungrib/Variable_Tables/Vtable.ECMWF Vtable')"
   ]
  },
  {
   "cell_type": "markdown",
   "id": "b8c9727c-5b08-48db-bab7-1502c64f37f6",
   "metadata": {},
   "source": [
    "### Run metgrid"
   ]
  },
  {
   "cell_type": "code",
   "execution_count": 43,
   "id": "e5194659-4ba7-4a73-a60a-d47a2611bad9",
   "metadata": {
    "tags": []
   },
   "outputs": [],
   "source": [
    "fg_name = '\"'+'\",\"'.join(prefixes)+'\"'\n",
    "modify_namelist(namelist_wps, namelist_wps, { 'fg_name'  : fg_name} )"
   ]
  },
  {
   "cell_type": "code",
   "execution_count": 44,
   "id": "6c982abe-e84b-4483-9638-ff406a9d9cd0",
   "metadata": {},
   "outputs": [],
   "source": [
    "subprocess.run(['./metgrid.exe'], cwd=run_dir, stdout=subprocess.DEVNULL, stderr=subprocess.DEVNULL, check=True)"
   ]
  },
  {
   "cell_type": "code",
   "execution_count": 34,
   "id": "597e254a-24df-4f6b-b7a7-8126a555e1c3",
   "metadata": {
    "tags": []
   },
   "outputs": [
    {
     "name": "stdout",
     "output_type": "stream",
     "text": [
      "/Users/doan/Documents/GitHub/Pseudo-Global-Warming-Downscaling/03_WRF_run\n"
     ]
    },
    {
     "data": {
      "text/plain": [
       "0"
      ]
     },
     "execution_count": 34,
     "metadata": {},
     "output_type": "execute_result"
    }
   ],
   "source": [
    "#os.system('cd '+run_dir+'; ./metgrid.exe  > NUL 2>&1; cd -')"
   ]
  },
  {
   "cell_type": "markdown",
   "id": "9bf49cfa-d907-4f40-94ca-592ec5bad543",
   "metadata": {},
   "source": [
    "## Copy WRF run files"
   ]
  },
  {
   "cell_type": "code",
   "execution_count": 45,
   "id": "6101e796-0fe3-48ed-bb2d-d9efe18d6cb3",
   "metadata": {},
   "outputs": [],
   "source": [
    "source_dir = os.path.join(wrfdir, 'run')\n",
    "destination_dir = run_dir\n",
    "\n",
    "for file_name in os.listdir(source_dir):\n",
    "    full_file_name = os.path.join(source_dir, file_name)    \n",
    "    if os.path.isfile(full_file_name):\n",
    "        shutil.copy(full_file_name, destination_dir)"
   ]
  },
  {
   "cell_type": "markdown",
   "id": "9c498d30-f2c1-434b-a41d-09dd30bd0256",
   "metadata": {},
   "source": [
    "### Copy namelist to destination"
   ]
  },
  {
   "cell_type": "code",
   "execution_count": 50,
   "id": "a0bd2c4d-ed85-46de-b488-1866c0891139",
   "metadata": {
    "tags": []
   },
   "outputs": [],
   "source": [
    "with open(namelist_input_path, 'r') as file: a1 = file.readlines()\n",
    "with open(run_dir+'/namelist.input', 'w') as file: file.writelines(a1)"
   ]
  },
  {
   "cell_type": "code",
   "execution_count": 51,
   "id": "7aa515c4-9421-4652-b676-8c1fbc3dc5a4",
   "metadata": {},
   "outputs": [],
   "source": [
    "subprocess.run(['./real.exe'], cwd=run_dir, stdout=subprocess.DEVNULL, stderr=subprocess.DEVNULL, check=True)"
   ]
  },
  {
   "cell_type": "code",
   "execution_count": 52,
   "id": "a0ba7ba7-0748-4147-a847-966d32b01484",
   "metadata": {},
   "outputs": [],
   "source": [
    "command = ['mpirun', '-np', '4', './wrf.exe']\n",
    "subprocess.run(command, cwd=run_dir, stdout=subprocess.DEVNULL, stderr=subprocess.DEVNULL, check=True)"
   ]
  },
  {
   "cell_type": "markdown",
   "id": "5935ad21-9e8a-439a-93fa-83db6eac662b",
   "metadata": {},
   "source": [
    "\n",
    "## Copy all directory to PGW\n",
    "\n",
    "\n",
    "\n",
    "\n"
   ]
  },
  {
   "cell_type": "code",
   "execution_count": null,
   "id": "da4a4b17-cef0-47c2-a730-239fd68f2085",
   "metadata": {},
   "outputs": [],
   "source": [
    "src_dir             = base_dir + \"/Run_WRF/\"+  run_id  + \"/control\"\n",
    "dst_dir             = base_dir + \"/Run_WRF/\" + run_id  + \"/PGW_DS\""
   ]
  },
  {
   "cell_type": "code",
   "execution_count": null,
   "id": "58b5bbef-b226-403e-8953-64ddfb0ee79f",
   "metadata": {},
   "outputs": [],
   "source": [
    "import os\n",
    "import shutil\n",
    "import fnmatch\n",
    "\n",
    "def copy_files_except(src, dst, exclude_patterns):\n",
    "    # Ensure the destination directory exists\n",
    "    if not os.path.exists(dst): os.makedirs(dst)\n",
    "\n",
    "    # Iterate over all items in the source directory\n",
    "    for item in os.listdir(src):\n",
    "        s = os.path.join(src, item)\n",
    "        d = os.path.join(dst, item)\n",
    "\n",
    "        # Check if the file matches any of the exclude patterns\n",
    "        if os.path.isfile(s) and not any(fnmatch.fnmatch(item, pattern) for pattern in exclude_patterns):\n",
    "            shutil.copy2(s, d)\n",
    "\n",
    "# Patterns to exclude (e.g., *.txt files and files starting with 'temp')\n",
    "exclude_patterns = ['met_em*.nc', 'wrfout_*.nc', '*:*']\n",
    "copy_files_except(src_dir, dst_dir, exclude_patterns)\n",
    "\n",
    "shutil.copytree(src_dir+'/metgrid', dst_dir+'/metgrid', dirs_exist_ok=True)"
   ]
  }
 ],
 "metadata": {
  "kernelspec": {
   "display_name": "Python 3 (ipykernel)",
   "language": "python",
   "name": "python3"
  },
  "language_info": {
   "codemirror_mode": {
    "name": "ipython",
    "version": 3
   },
   "file_extension": ".py",
   "mimetype": "text/x-python",
   "name": "python",
   "nbconvert_exporter": "python",
   "pygments_lexer": "ipython3",
   "version": "3.11.5"
  }
 },
 "nbformat": 4,
 "nbformat_minor": 5
}
