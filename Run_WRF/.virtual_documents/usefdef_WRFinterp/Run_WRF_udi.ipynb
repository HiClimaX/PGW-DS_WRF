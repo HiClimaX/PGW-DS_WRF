


import os, glob, sys
import shutil
import xarray as xr
import subprocess


base_dir            = '/Users/doan/Google Drive/My Drive/share/2024/PGW_DS/'
dst_dir             = base_dir + "/Run_WRF/tok_test_dom/PGW_DS"


run_dir = dst_dir


try:
    # Run the command in the specified directory
    subprocess.run(['./metgrid.exe'], cwd=run_dir, stdout=subprocess.DEVNULL, stderr=subprocess.DEVNULL, check=True)
except subprocess.CalledProcessError as e:
    print(f"Error executing metgrid.exe: {e}")


try:
    subprocess.run(['./real.exe'], cwd=run_dir, stdout=subprocess.DEVNULL, stderr=subprocess.DEVNULL, check=True)
except subprocess.CalledProcessError as e:
    print(f"Error executing real.exe: {e}")


command = ['mpirun', '-np', '4', './wrf.exe']
try:
    subprocess.run(command, cwd=run_dir, stdout=subprocess.DEVNULL, stderr=subprocess.DEVNULL, check=True)
except subprocess.CalledProcessError as e:
    print(f"Error executing wrf.exe: {e}")
