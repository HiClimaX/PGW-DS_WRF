


import xarray as xr
import pandas as pd
import numpy as np
import os, sys, glob
import subprocess





wpsdir              = "/Volumes/work/WRF_program/WRF_install/WPS/"
wrfdir              = "/Volumes/work/WRF_program/WRF_install/WRF_mpi/"
geogdir             = "/Volumes/work/WRF_program/WPS_GEOG"
renaldir            = "/Volumes/work/WRF_program/era5/"
namelist_wps_path   = "namelist/namelist.wps"
namelist_input_path = "namelist/namelist.input"

run_id              = 'tok_test_dom'
base_dir            = '/Users/doan/Google Drive/My Drive/share/2024/PGW_DS/'
run_dir             = base_dir + "/Run_WRF/"+run_id+"control"





st_date, en_date = "2023-01-01 00", "2023-01-01 18"





import shutil
for idir in ['geogrid', 'ungrib', 'metgrid']: 
    # Copy the directory tree, allowing existing destination directory
    shutil.copytree(wpsdir+'/'+idir, run_dir+'/'+idir, dirs_exist_ok=True)
    shutil.copy2(wpsdir+'/'+idir+'.exe', run_dir+'/'+idir+'.exe')    
shutil.copy2(wpsdir+'/link_grib.csh', run_dir)





import re
def modify_namelist(namelist_path_in, namelist_path_out, aa):
    with open(namelist_path_in, 'r') as file:
        lines = file.readlines()

    for i, line in enumerate(lines):
        for k, v in aa.items():
            parameter_pattern = re.compile(rf'^\s*{k}\s*=\s*')
            if parameter_pattern.match(line):
                lines[i] = f' {k} = {v},\n'

    with open(namelist_path_out, 'w') as file:
        file.writelines(lines)


namelist_path_in = namelist_wps_path
namelist_path_out = run_dir+'/namelist.wps'
aa = {'geog_data_path': '"'+geogdir+'"' }

modify_namelist(namelist_path_in, namelist_path_out, aa)






subprocess.run(['./geogrid.exe'], cwd=run_dir, stdout=subprocess.DEVNULL, stderr=subprocess.DEVNULL, check=True)





source_file = os.path.join(run_dir, 'ungrib/Variable_Tables/Vtable.ECMWF')
target_link = os.path.join(run_dir, 'Vtable')
original_dir = os.getcwd()
os.chdir(run_dir)
if os.path.islink(target_link) or os.path.exists(target_link): os.remove(target_link)
os.symlink(source_file, target_link) # link
os.chdir(original_dir)


namelist_wps = run_dir + '/namelist.wps'
prefixes = ['ERA5A', 'ERA5S']
for i in range(2):
    prefix = prefixes[i]
    # Define the appropriate reanalysis file based on 'pressure' or 'surface' level
    reanal_files = renaldir + 'era5_ungrib_' + ['pressure', 'surface'][i] + '_levels_20230101.grib'
    
    subprocess.run(['./link_grib.csh', reanal_files], cwd=run_dir, check=True)
    subprocess.run(['rm', '-f'] + glob.glob(os.path.join(run_dir, prefix+'*')), check=True)

    modify_namelist(namelist_wps, namelist_wps, {'prefix': f'"{prefix}"'})
    subprocess.run(['./ungrib.exe'], cwd=run_dir, stdout=subprocess.DEVNULL, stderr=subprocess.DEVNULL, check=True)


#os.system('cd '+run_dir+';ln -sf ungrib/Variable_Tables/Vtable.ECMWF Vtable')





fg_name = '"'+'","'.join(prefixes)+'"'
modify_namelist(namelist_wps, namelist_wps, { 'fg_name'  : fg_name} )


subprocess.run(['./metgrid.exe'], cwd=run_dir, stdout=subprocess.DEVNULL, stderr=subprocess.DEVNULL, check=True)


#os.system('cd '+run_dir+'; ./metgrid.exe  > NUL 2>&1; cd -')





source_dir = os.path.join(wrfdir, 'run')
destination_dir = run_dir

for file_name in os.listdir(source_dir):
    full_file_name = os.path.join(source_dir, file_name)    
    if os.path.isfile(full_file_name):
        shutil.copy(full_file_name, destination_dir)





with open(namelist_input_path, 'r') as file: a1 = file.readlines()
with open(run_dir+'/namelist.input', 'w') as file: file.writelines(a1)


subprocess.run(['./real.exe'], cwd=run_dir, stdout=subprocess.DEVNULL, stderr=subprocess.DEVNULL, check=True)


command = ['mpirun', '-np', '4', './wrf.exe']
subprocess.run(command, cwd=run_dir, stdout=subprocess.DEVNULL, stderr=subprocess.DEVNULL, check=True)





src_dir             = base_dir + "/Run_WRF/"+  run_id  + "/control"
dst_dir             = base_dir + "/Run_WRF/" + run_id  + "/PGW_DS"


import os
import shutil
import fnmatch

def copy_files_except(src, dst, exclude_patterns):
    # Ensure the destination directory exists
    if not os.path.exists(dst): os.makedirs(dst)

    # Iterate over all items in the source directory
    for item in os.listdir(src):
        s = os.path.join(src, item)
        d = os.path.join(dst, item)

        # Check if the file matches any of the exclude patterns
        if os.path.isfile(s) and not any(fnmatch.fnmatch(item, pattern) for pattern in exclude_patterns):
            shutil.copy2(s, d)

# Patterns to exclude (e.g., *.txt files and files starting with 'temp')
exclude_patterns = ['met_em*.nc', 'wrfout_*.nc', '*:*']
copy_files_except(src_dir, dst_dir, exclude_patterns)

shutil.copytree(src_dir+'/metgrid', dst_dir+'/metgrid', dirs_exist_ok=True)
