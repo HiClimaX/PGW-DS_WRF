


import xarray as xr
import pandas as pd
import numpy as np
import os, sys, glob
import subprocess





wpsdir              = "/Volumes/work/WRF_program/WRF_install/WPS/"
wrfdir              = "/Volumes/work/WRF_program/WRF_install/WRF_mpi/"
geogdir             = "/Volumes/work/WRF_program/WPS_GEOG"
renaldir            = "/Volumes/work/WRF_program/era5/"
namelist_wps_path   = "namelist/namelist.wps"
namelist_input_path = "namelist/namelist.input"

run_id              = 'tok_test_dom'
base_dir            = '/Users/doan/Google Drive/My Drive/share/2024/PGW_DS/'
run_dir             = base_dir + "/Run_WRF/"+run_id+"control"


st_date, en_date = "2023-01-01 00", "2023-01-01 18"


src_dir             = base_dir + "/Run_WRF/"+  run_id  + "/control"
dst_dir             = base_dir + "/Run_WRF/" + run_id  + "/D_DS"


import os
import shutil
import fnmatch

def copy_files_except(src, dst, exclude_patterns):
    # Ensure the destination directory exists
    if not os.path.exists(dst): os.makedirs(dst)

    # Iterate over all items in the source directory
    for item in os.listdir(src):
        s = os.path.join(src, item)
        d = os.path.join(dst, item)

        # Check if the file matches any of the exclude patterns
        if os.path.isfile(s) and not any(fnmatch.fnmatch(item, pattern) for pattern in exclude_patterns):
            shutil.copy2(s, d)

# Patterns to exclude (e.g., *.txt files and files starting with 'temp')
exclude_patterns = ['met_em*.nc', 'wrfout_*.nc', '*:*']
copy_files_except(src_dir, dst_dir, exclude_patterns)

shutil.copytree(src_dir+'/metgrid', dst_dir+'/metgrid', dirs_exist_ok=True)



