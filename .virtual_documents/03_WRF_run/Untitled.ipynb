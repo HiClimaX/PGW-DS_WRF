%pip install pywinter 


import pywinter.winter as pyw



ifile  ='control/ERA5A:2023-01-01_00'
interfile = pyw.rinter(ifile) 
'''
print(interfile.keys())
print(interfile['TT'].general)
print(interfile['TT'].geoinfo)
#print(interfile['TT'].val)
print(interfile['TT'].val.shape)
'''
x = interfile['TT']
slat, slon = x.geoinfo['STARTLAT'], x.geoinfo['STARTLON']
dlat, dlon = x.geoinfo['DELTALAT'], x.geoinfo['DELTALON']
shape = x.val.shape
lev = x.level
lat = [ slat + i*dlat for i in range(shape[-2]) ]
lon = [ slon + i*dlon for i in range(shape[-1]) ]




import xarray as xr
import xesmf as xe


idir = '../01_Generate_Global_Warming_Increment/diff/diff/ssp585/2040-2059_2000-2019/'


target_grid = xr.Dataset({
    'lat': (['lat'], lat),
    'lon': (['lon'], lon), 
})
new_levels = xr.DataArray(lev, dims="plev", name="plev")  # Example: 10 new levels


varns = [ 'hur', 'ta',  'ts',  'ua',  'va',  'zg']
g = 'EC-Earth3'
odir = 'output'
for v in varns:
    print(v)
    f = idir + '/'+v+'/'+v+'_'+g+'.nc'
    ds = xr.open_dataset(f)[v]
    
    regridder = xe.Regridder(ds, target_grid, method='bilinear')
    regridded_data = regridder(ds)
    if not v in ['ts']:
        regridded_data = regridded_data.interp(plev=new_levels)
    
    regridded_data.to_dataset(name=v).to_netcdf(odir+'/'+v+'.nc')


xr.open_dataset('output/ts.nc')['ts'][0].plot()







ds[0,2].plot()


d = xr.Dataset()



# Create new DataArrays for the target grid
new_lat_da = xr.DataArray(lat, dims='lat')
new_lon_da = xr.DataArray(lon, dims='lon')



new_lat_da


# Interpolate the dataset
interpolated_ds = ds.interp(lat=new_lat_da, lon=new_lon_da, method='linear')

# If you have a 3D variable, for example 'temperature', you would do:
#interpolated_temp = ds['temperature'].interp(lat=new_lat_da, lon=new_lon_da, method='linear')



interpolated_ds


# Create DataArray for new levels
new_levels_da = xr.DataArray(lev, dims='plev')

# Interpolate along the 'level' dimension
interpolated_temp_vertical = interpolated_ds.interp(plev=new_levels_da)



interpolated_temp_vertical[1,0].plot()


%conda install scipy

